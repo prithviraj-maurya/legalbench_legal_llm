{
 "cells": [
  {
   "cell_type": "code",
   "execution_count": 1,
   "metadata": {
    "id": "PbcUd_Gxvd13"
   },
   "outputs": [],
   "source": [
    "import os\n",
    "import pandas as pd\n",
    "\n",
    "path = \"data\"\n",
    "\n",
    "def createPath(dir):\n",
    "  return os.path.join(path, dir)\n",
    "\n",
    "def map_inputs(input):\n",
    "  for key in input.keys():\n",
    "    if key != \"index\":\n",
    "      return input[key]"
   ]
  },
  {
   "cell_type": "code",
   "execution_count": 2,
   "metadata": {
    "colab": {
     "base_uri": "https://localhost:8080/"
    },
    "id": "XOJ1VS8Rvz-B",
    "outputId": "8d14622a-5727-4cdc-f16c-0cb5f23bf151"
   },
   "outputs": [
    {
     "name": "stdout",
     "output_type": "stream",
     "text": [
      "Number of classification tasks: 155\n"
     ]
    }
   ],
   "source": [
    "## Prepare data\n",
    "\n",
    "raw_data_sample_path = os.path.join(path, 'raw_data_sample.json')\n",
    "sample_data = pd.read_json(raw_data_sample_path)\n",
    "\n",
    "sample_data['question'] = sample_data['inputs'].map(lambda input: map_inputs(input))\n",
    "\n",
    "unique_answers_per_category = {}\n",
    "classifying_tasks = []\n",
    "\n",
    "# find unique answers for each category\n",
    "for category in sample_data['task'].unique():\n",
    "  category_data = sample_data[sample_data['task'] == category]\n",
    "  unique_answers_per_category[category] = category_data['answer'].unique()\n",
    "\n",
    "for category, answers in unique_answers_per_category.items():\n",
    "  if len(answers)<10:\n",
    "    classifying_tasks.append(category)\n",
    "\n",
    "print(f\"Number of classification tasks: {len(classifying_tasks)}\")\n",
    "sample_data = sample_data[sample_data['task'].isin(classifying_tasks)]"
   ]
  },
  {
   "cell_type": "code",
   "execution_count": 13,
   "metadata": {
    "id": "CTPmXAf4OXF2"
   },
   "outputs": [],
   "source": [
    "from sklearn import preprocessing\n",
    "le = preprocessing.LabelEncoder()\n",
    "\n",
    "# Fit the encoder to the data\n",
    "le.fit(sample_data[\"answer\"])\n",
    "\n",
    "le.classes_\n",
    "# Transform the data\n",
    "sample_data[\"label\"] = le.transform(sample_data[\"answer\"])"
   ]
  },
  {
   "cell_type": "code",
   "execution_count": 4,
   "metadata": {
    "colab": {
     "base_uri": "https://localhost:8080/",
     "height": 165
    },
    "id": "m-goOGznv3sR",
    "outputId": "689859c5-f092-41f8-ee71-361e84034536"
   },
   "outputs": [
    {
     "name": "stdout",
     "output_type": "stream",
     "text": [
      "(9465, 9)\n"
     ]
    },
    {
     "data": {
      "application/vnd.google.colaboratory.intrinsic+json": {
       "repr_error": "unhashable type: 'dict'",
       "type": "dataframe",
       "variable_name": "sample_data"
      },
      "text/html": [
       "\n",
       "  <div id=\"df-11a1a85e-c443-4c98-857e-f21bcc21c939\" class=\"colab-df-container\">\n",
       "    <div>\n",
       "<style scoped>\n",
       "    .dataframe tbody tr th:only-of-type {\n",
       "        vertical-align: middle;\n",
       "    }\n",
       "\n",
       "    .dataframe tbody tr th {\n",
       "        vertical-align: top;\n",
       "    }\n",
       "\n",
       "    .dataframe thead th {\n",
       "        text-align: right;\n",
       "    }\n",
       "</style>\n",
       "<table border=\"1\" class=\"dataframe\">\n",
       "  <thead>\n",
       "    <tr style=\"text-align: right;\">\n",
       "      <th></th>\n",
       "      <th>index</th>\n",
       "      <th>raw_dataset_id</th>\n",
       "      <th>answer</th>\n",
       "      <th>inputs</th>\n",
       "      <th>prompt_template</th>\n",
       "      <th>prompt</th>\n",
       "      <th>task</th>\n",
       "      <th>question</th>\n",
       "      <th>label</th>\n",
       "    </tr>\n",
       "  </thead>\n",
       "  <tbody>\n",
       "    <tr>\n",
       "      <th>0</th>\n",
       "      <td>0</td>\n",
       "      <td>51</td>\n",
       "      <td>suggestive</td>\n",
       "      <td>{'index': '51', 'text': 'The mark \"Equine Tech...</td>\n",
       "      <td>A mark is generic if it is the common name for...</td>\n",
       "      <td>A mark is generic if it is the common name for...</td>\n",
       "      <td>abercrombie</td>\n",
       "      <td>The mark \"Equine Technologies\" for horse hoof ...</td>\n",
       "      <td>61</td>\n",
       "    </tr>\n",
       "    <tr>\n",
       "      <th>1</th>\n",
       "      <td>1</td>\n",
       "      <td>92</td>\n",
       "      <td>fanciful</td>\n",
       "      <td>{'index': '92', 'text': 'The mark \"Lanbe\" for ...</td>\n",
       "      <td>A mark is generic if it is the common name for...</td>\n",
       "      <td>A mark is generic if it is the common name for...</td>\n",
       "      <td>abercrombie</td>\n",
       "      <td>The mark \"Lanbe\" for custom wallets.</td>\n",
       "      <td>54</td>\n",
       "    </tr>\n",
       "  </tbody>\n",
       "</table>\n",
       "</div>\n",
       "    <div class=\"colab-df-buttons\">\n",
       "\n",
       "  <div class=\"colab-df-container\">\n",
       "    <button class=\"colab-df-convert\" onclick=\"convertToInteractive('df-11a1a85e-c443-4c98-857e-f21bcc21c939')\"\n",
       "            title=\"Convert this dataframe to an interactive table.\"\n",
       "            style=\"display:none;\">\n",
       "\n",
       "  <svg xmlns=\"http://www.w3.org/2000/svg\" height=\"24px\" viewBox=\"0 -960 960 960\">\n",
       "    <path d=\"M120-120v-720h720v720H120Zm60-500h600v-160H180v160Zm220 220h160v-160H400v160Zm0 220h160v-160H400v160ZM180-400h160v-160H180v160Zm440 0h160v-160H620v160ZM180-180h160v-160H180v160Zm440 0h160v-160H620v160Z\"/>\n",
       "  </svg>\n",
       "    </button>\n",
       "\n",
       "  <style>\n",
       "    .colab-df-container {\n",
       "      display:flex;\n",
       "      gap: 12px;\n",
       "    }\n",
       "\n",
       "    .colab-df-convert {\n",
       "      background-color: #E8F0FE;\n",
       "      border: none;\n",
       "      border-radius: 50%;\n",
       "      cursor: pointer;\n",
       "      display: none;\n",
       "      fill: #1967D2;\n",
       "      height: 32px;\n",
       "      padding: 0 0 0 0;\n",
       "      width: 32px;\n",
       "    }\n",
       "\n",
       "    .colab-df-convert:hover {\n",
       "      background-color: #E2EBFA;\n",
       "      box-shadow: 0px 1px 2px rgba(60, 64, 67, 0.3), 0px 1px 3px 1px rgba(60, 64, 67, 0.15);\n",
       "      fill: #174EA6;\n",
       "    }\n",
       "\n",
       "    .colab-df-buttons div {\n",
       "      margin-bottom: 4px;\n",
       "    }\n",
       "\n",
       "    [theme=dark] .colab-df-convert {\n",
       "      background-color: #3B4455;\n",
       "      fill: #D2E3FC;\n",
       "    }\n",
       "\n",
       "    [theme=dark] .colab-df-convert:hover {\n",
       "      background-color: #434B5C;\n",
       "      box-shadow: 0px 1px 3px 1px rgba(0, 0, 0, 0.15);\n",
       "      filter: drop-shadow(0px 1px 2px rgba(0, 0, 0, 0.3));\n",
       "      fill: #FFFFFF;\n",
       "    }\n",
       "  </style>\n",
       "\n",
       "    <script>\n",
       "      const buttonEl =\n",
       "        document.querySelector('#df-11a1a85e-c443-4c98-857e-f21bcc21c939 button.colab-df-convert');\n",
       "      buttonEl.style.display =\n",
       "        google.colab.kernel.accessAllowed ? 'block' : 'none';\n",
       "\n",
       "      async function convertToInteractive(key) {\n",
       "        const element = document.querySelector('#df-11a1a85e-c443-4c98-857e-f21bcc21c939');\n",
       "        const dataTable =\n",
       "          await google.colab.kernel.invokeFunction('convertToInteractive',\n",
       "                                                    [key], {});\n",
       "        if (!dataTable) return;\n",
       "\n",
       "        const docLinkHtml = 'Like what you see? Visit the ' +\n",
       "          '<a target=\"_blank\" href=https://colab.research.google.com/notebooks/data_table.ipynb>data table notebook</a>'\n",
       "          + ' to learn more about interactive tables.';\n",
       "        element.innerHTML = '';\n",
       "        dataTable['output_type'] = 'display_data';\n",
       "        await google.colab.output.renderOutput(dataTable, element);\n",
       "        const docLink = document.createElement('div');\n",
       "        docLink.innerHTML = docLinkHtml;\n",
       "        element.appendChild(docLink);\n",
       "      }\n",
       "    </script>\n",
       "  </div>\n",
       "\n",
       "\n",
       "<div id=\"df-3b47fe7d-2362-46b3-90b8-f8fd6c1bd44c\">\n",
       "  <button class=\"colab-df-quickchart\" onclick=\"quickchart('df-3b47fe7d-2362-46b3-90b8-f8fd6c1bd44c')\"\n",
       "            title=\"Suggest charts\"\n",
       "            style=\"display:none;\">\n",
       "\n",
       "<svg xmlns=\"http://www.w3.org/2000/svg\" height=\"24px\"viewBox=\"0 0 24 24\"\n",
       "     width=\"24px\">\n",
       "    <g>\n",
       "        <path d=\"M19 3H5c-1.1 0-2 .9-2 2v14c0 1.1.9 2 2 2h14c1.1 0 2-.9 2-2V5c0-1.1-.9-2-2-2zM9 17H7v-7h2v7zm4 0h-2V7h2v10zm4 0h-2v-4h2v4z\"/>\n",
       "    </g>\n",
       "</svg>\n",
       "  </button>\n",
       "\n",
       "<style>\n",
       "  .colab-df-quickchart {\n",
       "      --bg-color: #E8F0FE;\n",
       "      --fill-color: #1967D2;\n",
       "      --hover-bg-color: #E2EBFA;\n",
       "      --hover-fill-color: #174EA6;\n",
       "      --disabled-fill-color: #AAA;\n",
       "      --disabled-bg-color: #DDD;\n",
       "  }\n",
       "\n",
       "  [theme=dark] .colab-df-quickchart {\n",
       "      --bg-color: #3B4455;\n",
       "      --fill-color: #D2E3FC;\n",
       "      --hover-bg-color: #434B5C;\n",
       "      --hover-fill-color: #FFFFFF;\n",
       "      --disabled-bg-color: #3B4455;\n",
       "      --disabled-fill-color: #666;\n",
       "  }\n",
       "\n",
       "  .colab-df-quickchart {\n",
       "    background-color: var(--bg-color);\n",
       "    border: none;\n",
       "    border-radius: 50%;\n",
       "    cursor: pointer;\n",
       "    display: none;\n",
       "    fill: var(--fill-color);\n",
       "    height: 32px;\n",
       "    padding: 0;\n",
       "    width: 32px;\n",
       "  }\n",
       "\n",
       "  .colab-df-quickchart:hover {\n",
       "    background-color: var(--hover-bg-color);\n",
       "    box-shadow: 0 1px 2px rgba(60, 64, 67, 0.3), 0 1px 3px 1px rgba(60, 64, 67, 0.15);\n",
       "    fill: var(--button-hover-fill-color);\n",
       "  }\n",
       "\n",
       "  .colab-df-quickchart-complete:disabled,\n",
       "  .colab-df-quickchart-complete:disabled:hover {\n",
       "    background-color: var(--disabled-bg-color);\n",
       "    fill: var(--disabled-fill-color);\n",
       "    box-shadow: none;\n",
       "  }\n",
       "\n",
       "  .colab-df-spinner {\n",
       "    border: 2px solid var(--fill-color);\n",
       "    border-color: transparent;\n",
       "    border-bottom-color: var(--fill-color);\n",
       "    animation:\n",
       "      spin 1s steps(1) infinite;\n",
       "  }\n",
       "\n",
       "  @keyframes spin {\n",
       "    0% {\n",
       "      border-color: transparent;\n",
       "      border-bottom-color: var(--fill-color);\n",
       "      border-left-color: var(--fill-color);\n",
       "    }\n",
       "    20% {\n",
       "      border-color: transparent;\n",
       "      border-left-color: var(--fill-color);\n",
       "      border-top-color: var(--fill-color);\n",
       "    }\n",
       "    30% {\n",
       "      border-color: transparent;\n",
       "      border-left-color: var(--fill-color);\n",
       "      border-top-color: var(--fill-color);\n",
       "      border-right-color: var(--fill-color);\n",
       "    }\n",
       "    40% {\n",
       "      border-color: transparent;\n",
       "      border-right-color: var(--fill-color);\n",
       "      border-top-color: var(--fill-color);\n",
       "    }\n",
       "    60% {\n",
       "      border-color: transparent;\n",
       "      border-right-color: var(--fill-color);\n",
       "    }\n",
       "    80% {\n",
       "      border-color: transparent;\n",
       "      border-right-color: var(--fill-color);\n",
       "      border-bottom-color: var(--fill-color);\n",
       "    }\n",
       "    90% {\n",
       "      border-color: transparent;\n",
       "      border-bottom-color: var(--fill-color);\n",
       "    }\n",
       "  }\n",
       "</style>\n",
       "\n",
       "  <script>\n",
       "    async function quickchart(key) {\n",
       "      const quickchartButtonEl =\n",
       "        document.querySelector('#' + key + ' button');\n",
       "      quickchartButtonEl.disabled = true;  // To prevent multiple clicks.\n",
       "      quickchartButtonEl.classList.add('colab-df-spinner');\n",
       "      try {\n",
       "        const charts = await google.colab.kernel.invokeFunction(\n",
       "            'suggestCharts', [key], {});\n",
       "      } catch (error) {\n",
       "        console.error('Error during call to suggestCharts:', error);\n",
       "      }\n",
       "      quickchartButtonEl.classList.remove('colab-df-spinner');\n",
       "      quickchartButtonEl.classList.add('colab-df-quickchart-complete');\n",
       "    }\n",
       "    (() => {\n",
       "      let quickchartButtonEl =\n",
       "        document.querySelector('#df-3b47fe7d-2362-46b3-90b8-f8fd6c1bd44c button');\n",
       "      quickchartButtonEl.style.display =\n",
       "        google.colab.kernel.accessAllowed ? 'block' : 'none';\n",
       "    })();\n",
       "  </script>\n",
       "</div>\n",
       "\n",
       "    </div>\n",
       "  </div>\n"
      ],
      "text/plain": [
       "   index  raw_dataset_id      answer  \\\n",
       "0      0              51  suggestive   \n",
       "1      1              92    fanciful   \n",
       "\n",
       "                                              inputs  \\\n",
       "0  {'index': '51', 'text': 'The mark \"Equine Tech...   \n",
       "1  {'index': '92', 'text': 'The mark \"Lanbe\" for ...   \n",
       "\n",
       "                                     prompt_template  \\\n",
       "0  A mark is generic if it is the common name for...   \n",
       "1  A mark is generic if it is the common name for...   \n",
       "\n",
       "                                              prompt         task  \\\n",
       "0  A mark is generic if it is the common name for...  abercrombie   \n",
       "1  A mark is generic if it is the common name for...  abercrombie   \n",
       "\n",
       "                                            question  label  \n",
       "0  The mark \"Equine Technologies\" for horse hoof ...     61  \n",
       "1               The mark \"Lanbe\" for custom wallets.     54  "
      ]
     },
     "execution_count": 4,
     "metadata": {},
     "output_type": "execute_result"
    }
   ],
   "source": [
    "print(sample_data.shape)\n",
    "sample_data.head(2)"
   ]
  },
  {
   "cell_type": "code",
   "execution_count": 5,
   "metadata": {
    "colab": {
     "base_uri": "https://localhost:8080/"
    },
    "id": "cpJpcPBI1VJm",
    "outputId": "d0a7ddcd-f4f8-416d-b5bf-d8d50493fceb"
   },
   "outputs": [
    {
     "name": "stdout",
     "output_type": "stream",
     "text": [
      "Score on train 0.886027469624934\n",
      "Score on test data 0.7184363444268357\n"
     ]
    }
   ],
   "source": [
    "import pandas as pd\n",
    "from sklearn.ensemble import GradientBoostingClassifier\n",
    "from sklearn.feature_extraction.text import TfidfVectorizer\n",
    "from sklearn.preprocessing import LabelEncoder\n",
    "from sklearn.model_selection import train_test_split\n",
    "\n",
    "# Load the data\n",
    "data = sample_data.copy()\n",
    "\n",
    "# Separate the features and labels\n",
    "X = data[['prompt', 'question']]\n",
    "y = data['label']\n",
    "\n",
    "# Convert the answers to label encoding\n",
    "le = LabelEncoder()\n",
    "y = le.fit_transform(y)\n",
    "\n",
    "# Vectorize the prompt and question text\n",
    "vectorizer = TfidfVectorizer()\n",
    "X2e- = vectorizer.fit_transform(X['prompt'])\n",
    "\n",
    "# Split the data into training and testing sets\n",
    "X_train, X_test, y_train, y_test = train_test_split(X, y, test_size=0.2, random_state=42)\n",
    "print(f\"Split: {X_train.shape, X_test.shape}\")\n",
    "\n",
    "# Train the gradient boosting classifier\n",
    "model_1 = GradientBoostingClassifier()\n",
    "model_1.fit(X_train, y_train)\n",
    "\n",
    "# Make predictions on new data\n",
    "new_y = model_1.predict(X_test)\n",
    "\n",
    "# Convert the predictions back to original labels\n",
    "new_y = le.inverse_transform(y_test)\n",
    "\n",
    "print(f\"Score on train\", model_1.score(X_train, y_train))\n",
    "print(f\"Score on test data\", model_1.score(X_test, y_test))"
   ]
  },
  {
   "cell_type": "code",
   "execution_count": 8,
   "metadata": {
    "colab": {
     "base_uri": "https://localhost:8080/"
    },
    "id": "ctJO2jc5Z0ES",
    "outputId": "a337cc3f-4429-4ce8-e8ad-3fd29716e3a0"
   },
   "outputs": [
    {
     "data": {
      "text/plain": [
       "((7572, 20774), (1893, 20774))"
      ]
     },
     "execution_count": 8,
     "metadata": {},
     "output_type": "execute_result"
    }
   ],
   "source": [
    "X_train.shape, X_test.shape"
   ]
  },
  {
   "cell_type": "code",
   "execution_count": 17,
   "metadata": {
    "id": "h4uRNnS3uznF"
   },
   "outputs": [],
   "source": [
    "## Lets verify the output\n",
    "predictions = model_1.predict(X)"
   ]
  },
  {
   "cell_type": "code",
   "execution_count": 20,
   "metadata": {
    "id": "C_AoQDBdvKG8"
   },
   "outputs": [],
   "source": [
    "sample_data['predictions'] = le.inverse_transform(predictions)"
   ]
  },
  {
   "cell_type": "code",
   "execution_count": 25,
   "metadata": {
    "colab": {
     "base_uri": "https://localhost:8080/"
    },
    "id": "lSLCuhpCwd9V",
    "outputId": "63972086-3c40-460c-9b82-5205fbe80b5b"
   },
   "outputs": [
    {
     "name": "stdout",
     "output_type": "stream",
     "text": [
      "Accuracy: 85.25%\n"
     ]
    }
   ],
   "source": [
    "correct_predictions = sum(sample_data['predictions'] == sample_data['answer'])\n",
    "total_predictions = len(sample_data)\n",
    "accuracy = correct_predictions / total_predictions\n",
    "print(f\"Accuracy: {accuracy * 100:.2f}%\")\n"
   ]
  },
  {
   "cell_type": "markdown",
   "metadata": {
    "id": "SQ1YFdnBxkqN"
   },
   "source": [
    "### Lets plot confusion matrix for some of these categories"
   ]
  },
  {
   "cell_type": "code",
   "execution_count": 35,
   "metadata": {
    "colab": {
     "base_uri": "https://localhost:8080/",
     "height": 945
    },
    "id": "F3LIy5vpxs9Y",
    "outputId": "0cc63755-f450-463a-944b-dceb3a479b37"
   },
   "outputs": [
    {
     "data": {
      "image/png": "[encoded data removed]",
      "text/plain": [
       "<Figure size 1500x1000 with 8 Axes>"
      ]
     },
     "metadata": {},
     "output_type": "display_data"
    },
    {
     "data": {
      "text/plain": [
       "<Figure size 300x300 with 0 Axes>"
      ]
     },
     "metadata": {},
     "output_type": "display_data"
    },
    {
     "data": {
      "text/plain": [
       "<Figure size 300x300 with 0 Axes>"
      ]
     },
     "metadata": {},
     "output_type": "display_data"
    },
    {
     "data": {
      "text/plain": [
       "<Figure size 300x300 with 0 Axes>"
      ]
     },
     "metadata": {},
     "output_type": "display_data"
    },
    {
     "data": {
      "text/plain": [
       "<Figure size 300x300 with 0 Axes>"
      ]
     },
     "metadata": {},
     "output_type": "display_data"
    }
   ],
   "source": [
    "import matplotlib.pyplot as plt\n",
    "import seaborn as sns\n",
    "from sklearn.metrics import confusion_matrix\n",
    "\n",
    "fig, axes = plt.subplots(2, 2, figsize=(15, 10))\n",
    "\n",
    "# Plot confusion matrix for each category\n",
    "for i, category in enumerate(classifying_tasks[:4]):\n",
    "    ax = axes[i // 2, i % 2]\n",
    "    cm = confusion_matrix(sample_data[sample_data['task'] == category]['answer'],\n",
    "                          sample_data[sample_data['task'] == category]['predictions'])\n",
    "    plt.figure(figsize=(3,3))\n",
    "    sns.heatmap(cm, annot=True, ax=ax, fmt='g')\n",
    "    ax.set_title(category)\n",
    "    ax.set_xlabel('Predicted')\n",
    "    ax.set_ylabel('True');\n",
    "\n",
    "plt.show();\n"
   ]
  },
  {
   "cell_type": "code",
   "execution_count": 42,
   "metadata": {
    "colab": {
     "base_uri": "https://localhost:8080/"
    },
    "id": "szX22KOlxdcY",
    "outputId": "6f3b7e0e-58bf-4f46-90ae-15d4d3c8f261"
   },
   "outputs": [
    {
     "name": "stdout",
     "output_type": "stream",
     "text": [
      "Category with the lowest accuracy: cuad_rofr-rofo-rofn with accuracy: 0.56\n"
     ]
    }
   ],
   "source": [
    "# Which of these categories did the worst\n",
    "category_accuracies = {}\n",
    "for category in classifying_tasks:\n",
    "  category_data = sample_data[sample_data['task'] == category]\n",
    "  correct_predictions = sum(category_data['predictions'] == category_data['answer'])\n",
    "  total_predictions = len(category_data)\n",
    "  accuracy = correct_predictions / total_predictions\n",
    "  category_accuracies[category] = accuracy\n",
    "\n",
    "# Find the category with the lowest accuracy\n",
    "lowest_accuracy_category = min(category_accuracies, key=category_accuracies.get)\n",
    "\n",
    "print(f\"Category with the lowest accuracy: {lowest_accuracy_category} with accuracy: {category_accuracies[lowest_accuracy_category]}\")\n"
   ]
  },
  {
   "cell_type": "markdown",
   "metadata": {
    "id": "osug7RhGy5Td"
   },
   "source": [
    "### How did we do for each of these answer categories"
   ]
  },
  {
   "cell_type": "code",
   "execution_count": 40,
   "metadata": {
    "colab": {
     "base_uri": "https://localhost:8080/"
    },
    "id": "EkNaObN3ywCS",
    "outputId": "d09d9bee-0b5e-47a3-f562-84690f9b6adb"
   },
   "outputs": [
    {
     "data": {
      "text/plain": [
       "{'abercrombie': 0.78,\n",
       " 'canada_tax_court_outcomes': 0.94,\n",
       " 'citation_prediction_classification': 0.66,\n",
       " 'consumer_contracts_qa': 0.78,\n",
       " 'contract_nli_confidentiality_of_agreement': 0.8,\n",
       " 'contract_nli_explicit_identification': 0.9,\n",
       " 'contract_nli_inclusion_of_verbally_conveyed_information': 0.78,\n",
       " 'contract_nli_limited_use': 0.94,\n",
       " 'contract_nli_no_licensing': 0.82,\n",
       " 'contract_nli_notice_on_compelled_disclosure': 0.92,\n",
       " 'contract_nli_permissible_acquirement_of_similar_information': 0.88,\n",
       " 'contract_nli_permissible_copy': 0.76,\n",
       " 'contract_nli_permissible_development_of_similar_information': 0.98,\n",
       " 'contract_nli_permissible_post-agreement_possession': 0.86,\n",
       " 'contract_nli_return_of_confidential_information': 0.9,\n",
       " 'contract_nli_sharing_with_employees': 0.92,\n",
       " 'contract_nli_sharing_with_third-parties': 0.76,\n",
       " 'contract_nli_survival_of_obligations': 0.9,\n",
       " 'contract_qa': 0.96,\n",
       " 'corporate_lobbying': 0.88,\n",
       " 'cuad_affiliate_license-licensee': 0.76,\n",
       " 'cuad_affiliate_license-licensor': 1.0,\n",
       " 'cuad_anti-assignment': 0.8620689655172413,\n",
       " 'cuad_audit_rights': 0.7,\n",
       " 'cuad_cap_on_liability': 0.7419354838709677,\n",
       " 'cuad_change_of_control': 0.84,\n",
       " 'cuad_competitive_restriction_exception': 0.62,\n",
       " 'cuad_covenant_not_to_sue': 0.8,\n",
       " 'cuad_effective_date': 0.98,\n",
       " 'cuad_exclusivity': 0.86,\n",
       " 'cuad_expiration_date': 0.6,\n",
       " 'cuad_governing_law': 0.9,\n",
       " 'cuad_insurance': 0.9607843137254902,\n",
       " 'cuad_ip_ownership_assignment': 0.78,\n",
       " 'cuad_irrevocable_or_perpetual_license': 0.92,\n",
       " 'cuad_joint_ip_ownership': 1.0,\n",
       " 'cuad_license_grant': 0.9565217391304348,\n",
       " 'cuad_liquidated_damages': 0.88,\n",
       " 'cuad_minimum_commitment': 0.82,\n",
       " 'cuad_most_favored_nation': 0.88,\n",
       " 'cuad_no-solicit_of_customers': 0.92,\n",
       " 'cuad_no-solicit_of_employees': 0.84,\n",
       " 'cuad_non-compete': 0.7,\n",
       " 'cuad_non-disparagement': 0.82,\n",
       " 'cuad_non-transferable_license': 0.92,\n",
       " 'cuad_notice_period_to_terminate_renewal': 0.8,\n",
       " 'cuad_post-termination_services': 0.76,\n",
       " 'cuad_price_restrictions': 0.88,\n",
       " 'cuad_renewal_term': 0.86,\n",
       " 'cuad_revenue-profit_sharing': 0.78,\n",
       " 'cuad_rofr-rofo-rofn': 0.56,\n",
       " 'cuad_source_code_escrow': 0.94,\n",
       " 'cuad_termination_for_convenience': 0.84,\n",
       " 'cuad_third_party_beneficiary': 0.98,\n",
       " 'cuad_uncapped_liability': 0.88,\n",
       " 'cuad_unlimited-all-you-can-eat-license': 0.96,\n",
       " 'cuad_volume_restriction': 0.84,\n",
       " 'cuad_warranty_duration': 0.92,\n",
       " 'definition_classification': 0.8636363636363636,\n",
       " 'diversity_1': 0.84,\n",
       " 'diversity_2': 0.78,\n",
       " 'diversity_3': 0.58,\n",
       " 'diversity_4': 0.62,\n",
       " 'diversity_5': 0.66,\n",
       " 'diversity_6': 0.64,\n",
       " 'function_of_decision_section': 0.94,\n",
       " 'hearsay': 0.88,\n",
       " 'insurance_policy_interpretation': 0.86,\n",
       " 'international_citizenship_questions': 0.7182795698924731,\n",
       " 'jcrew_blocker': 0.88,\n",
       " 'learned_hands_benefits': 0.78,\n",
       " 'learned_hands_business': 0.82,\n",
       " 'learned_hands_consumer': 0.82,\n",
       " 'learned_hands_courts': 0.76,\n",
       " 'learned_hands_crime': 0.66,\n",
       " 'learned_hands_divorce': 0.74,\n",
       " 'learned_hands_domestic_violence': 0.76,\n",
       " 'learned_hands_education': 0.96,\n",
       " 'learned_hands_employment': 0.84,\n",
       " 'learned_hands_estates': 0.9,\n",
       " 'learned_hands_family': 0.7964601769911505,\n",
       " 'learned_hands_health': 0.68,\n",
       " 'learned_hands_housing': 0.8258928571428571,\n",
       " 'learned_hands_immigration': 0.9,\n",
       " 'learned_hands_torts': 0.66,\n",
       " 'learned_hands_traffic': 0.84,\n",
       " 'legal_reasoning_causality': 0.98,\n",
       " 'maud_ability_to_consummate_concept_is_subject_to_mae_carveouts': 1.0,\n",
       " 'maud_accuracy_of_fundamental_target_rws_bringdown_standard': 0.92,\n",
       " 'maud_accuracy_of_target_capitalization_rw_(outstanding_shares)_bringdown_standard_answer': 0.96,\n",
       " 'maud_accuracy_of_target_general_rw_bringdown_timing_answer': 0.94,\n",
       " 'maud_additional_matching_rights_period_for_modifications_(cor)': 0.94,\n",
       " 'maud_application_of_buyer_consent_requirement_(negative_interim_covenant)': 1.0,\n",
       " 'maud_buyer_consent_requirement_(ordinary_course)': 0.96,\n",
       " 'maud_change_in_law__subject_to_disproportionate_impact_modifier': 1.0,\n",
       " 'maud_changes_in_gaap_or_other_accounting_principles__subject_to_disproportionate_impact_modifier': 0.98,\n",
       " 'maud_cor_permitted_in_response_to_intervening_event': 1.0,\n",
       " 'maud_cor_permitted_with_board_fiduciary_determination_only': 0.96,\n",
       " 'maud_cor_standard_(intervening_event)': 0.9,\n",
       " 'maud_cor_standard_(superior_offer)': 0.82,\n",
       " 'maud_definition_contains_knowledge_requirement_-_answer': 0.88,\n",
       " 'maud_definition_includes_asset_deals': 0.86,\n",
       " 'maud_definition_includes_stock_deals': 0.84,\n",
       " 'maud_fiduciary_exception__board_determination_standard': 0.94,\n",
       " 'maud_fiduciary_exception_board_determination_trigger_(no_shop)': 0.96,\n",
       " 'maud_financial_point_of_view_is_the_sole_consideration': 0.96,\n",
       " 'maud_fls_(mae)_standard': 0.94,\n",
       " 'maud_general_economic_and_financial_conditions_subject_to_disproportionate_impact_modifier': 0.88,\n",
       " 'maud_includes_consistent_with_past_practice': 1.0,\n",
       " 'maud_initial_matching_rights_period_(cor)': 0.9,\n",
       " 'maud_initial_matching_rights_period_(ftr)': 0.94,\n",
       " 'maud_intervening_event_-_required_to_occur_after_signing_-_answer': 0.96,\n",
       " 'maud_knowledge_definition': 0.86,\n",
       " 'maud_liability_standard_for_no-shop_breach_by_target_non-do_representatives': 0.9,\n",
       " 'maud_ordinary_course_efforts_standard': 0.88,\n",
       " 'maud_pandemic_or_other_public_health_event__subject_to_disproportionate_impact_modifier': 1.0,\n",
       " 'maud_pandemic_or_other_public_health_event_specific_reference_to_pandemic-related_governmental_responses_or_measures': 0.88,\n",
       " 'maud_relational_language_(mae)_applies_to': 0.96,\n",
       " 'maud_specific_performance': 0.98,\n",
       " 'maud_tail_period_length': 0.82,\n",
       " 'maud_type_of_consideration': 0.96,\n",
       " 'nys_judicial_ethics': 0.6,\n",
       " 'opp115_data_retention': 0.82,\n",
       " 'opp115_data_security': 0.7424242424242424,\n",
       " 'opp115_do_not_track': 0.98,\n",
       " 'opp115_first_party_collection_use': 0.5961538461538461,\n",
       " 'opp115_international_and_specific_audiences': 0.74,\n",
       " 'opp115_policy_change': 0.82,\n",
       " 'opp115_third_party_sharing_collection': 0.810126582278481,\n",
       " 'opp115_user_access,_edit_and_deletion': 0.76,\n",
       " 'opp115_user_choice_control': 0.7532467532467533,\n",
       " 'oral_argument_question_purpose': 0.88,\n",
       " 'overruling': 0.8823529411764706,\n",
       " 'personal_jurisdiction': 0.88,\n",
       " 'privacy_policy_entailment': 0.9953703703703703,\n",
       " 'privacy_policy_qa': 0.9194139194139194,\n",
       " 'proa': 0.88,\n",
       " 'sara_entailment': 0.88,\n",
       " 'scalr': 0.7,\n",
       " 'successor_liability': 0.86,\n",
       " 'supply_chain_disclosure_best_practice_accountability': 0.9,\n",
       " 'supply_chain_disclosure_best_practice_audits': 0.76,\n",
       " 'supply_chain_disclosure_best_practice_certification': 0.82,\n",
       " 'supply_chain_disclosure_best_practice_training': 0.74,\n",
       " 'supply_chain_disclosure_best_practice_verification': 0.78,\n",
       " 'supply_chain_disclosure_disclosed_accountability': 0.96,\n",
       " 'supply_chain_disclosure_disclosed_audits': 0.94,\n",
       " 'supply_chain_disclosure_disclosed_certification': 0.92,\n",
       " 'supply_chain_disclosure_disclosed_training': 0.86,\n",
       " 'supply_chain_disclosure_disclosed_verification': 0.82,\n",
       " 'telemarketing_sales_rule': 0.7,\n",
       " 'textualism_tool_dictionaries': 0.96,\n",
       " 'textualism_tool_plain': 0.86,\n",
       " 'ucc_v_common_law': 0.92,\n",
       " 'unfair_tos': 0.9842105263157894}"
      ]
     },
     "execution_count": 40,
     "metadata": {},
     "output_type": "execute_result"
    }
   ],
   "source": [
    "category_accuracies"
   ]
  },
  {
   "cell_type": "markdown",
   "metadata": {
    "id": "t9zYuBsK1EIo"
   },
   "source": [
    "### Analyse results for `consumer_contracts_qa`"
   ]
  },
  {
   "cell_type": "code",
   "execution_count": 51,
   "metadata": {
    "colab": {
     "base_uri": "https://localhost:8080/",
     "height": 370
    },
    "id": "m9DsFHMI1IFy",
    "outputId": "5cf1e2ae-f195-4775-b43d-86350cd9261a"
   },
   "outputs": [
    {
     "name": "stdout",
     "output_type": "stream",
     "text": [
      "Total data available for consumer_contracts_qa 50\n",
      "Accuracy for consumer_contracts_qa: 0.78\n"
     ]
    },
    {
     "data": {
      "image/png": "[encoded data removed]",
      "text/plain": [
       "<Figure size 300x300 with 2 Axes>"
      ]
     },
     "metadata": {},
     "output_type": "display_data"
    }
   ],
   "source": [
    "import matplotlib.pyplot as plt\n",
    "# Get the data for the consumer_contracts_qa category\n",
    "consumer_contracts_data = sample_data[sample_data['task'] == 'consumer_contracts_qa']\n",
    "\n",
    "# Calculate the accuracy for the consumer_contracts_qa category\n",
    "consumer_contracts_accuracy = category_accuracies['consumer_contracts_qa']\n",
    "\n",
    "print(f\"Total data available for consumer_contracts_qa: {len(consumer_contracts_data)}\")\n",
    "# Print the accuracy and the confusion matrix for the consumer_contracts_qa category\n",
    "print(f\"Accuracy for consumer_contracts_qa: {consumer_contracts_accuracy}\")\n",
    "\n",
    "# Get the confusion matrix for the consumer_contracts_qa category\n",
    "consumer_contracts_cm = confusion_matrix(consumer_contracts_data['answer'], consumer_contracts_data['predictions'])\n",
    "\n",
    "# Plot the confusion matrix for the consumer_contracts_qa category\n",
    "plt.figure(figsize=(3, 3))\n",
    "sns.heatmap(consumer_contracts_cm, annot=True, fmt='g')\n",
    "plt.xlabel('Predicted')\n",
    "plt.ylabel('True')\n",
    "plt.title('Confusion Matrix for consumer_contracts_qa')\n",
    "plt.show();\n"
   ]
  },
  {
   "cell_type": "markdown",
   "metadata": {
    "id": "TyNJSfcS2Jyn"
   },
   "source": [
    "### Some correct and incorrect predictions for `consumer_contracts_qa`"
   ]
  },
  {
   "cell_type": "code",
   "execution_count": 61,
   "metadata": {
    "colab": {
     "base_uri": "https://localhost:8080/"
    },
    "id": "u3UleI0U2N-A",
    "outputId": "1e77e8ca-73be-41fb-ae15-143582ca9449"
   },
   "outputs": [
    {
     "name": "stdout",
     "output_type": "stream",
     "text": [
      "Some correct predictions:\n",
      "                                                prompt                   task  \\\n",
      "200  3. Billing and Cancellation\\n\\n3.1. Billing Cy...  consumer_contracts_qa   \n",
      "201  7. FEES AND PAYMENTS\\n\\n7.1. We reserve the ri...  consumer_contracts_qa   \n",
      "202  1. To access and use the Services, you must re...  consumer_contracts_qa   \n",
      "204  The fees we charge for using our Services are ...  consumer_contracts_qa   \n",
      "205  Taking action in case of problems\\nBefore taki...  consumer_contracts_qa   \n",
      "\n",
      "    answer predictions  \n",
      "200    Yes         Yes  \n",
      "201     No          No  \n",
      "202     No          No  \n",
      "204    Yes         Yes  \n",
      "205     No          No  \n",
      "\n",
      "\n",
      "\n",
      "Some incorrect predictions:\n",
      "                                                prompt                   task  \\\n",
      "203  4. Netflix Service\\n\\n4.1. You must be 18 year...  consumer_contracts_qa   \n",
      "209  Welcome to Facebook!\\n\\nFacebook builds techno...  consumer_contracts_qa   \n",
      "220  3. USER GENERATED CONTENT: SUBMISSIONS INCLUDI...  consumer_contracts_qa   \n",
      "221  Notice Specific to Documents Available on this...  consumer_contracts_qa   \n",
      "222  A. Changes to the Disney Products. The Disney ...  consumer_contracts_qa   \n",
      "\n",
      "    answer predictions  \n",
      "203    Yes          No  \n",
      "209     No         Yes  \n",
      "220     No         Yes  \n",
      "221     No         Yes  \n",
      "222     No         Yes  \n"
     ]
    }
   ],
   "source": [
    "# Print some correct predictions for the consumer_contracts_qa category\n",
    "correct_predictions = consumer_contracts_data[consumer_contracts_data['predictions'] == consumer_contracts_data['answer']]\n",
    "print(\"Some correct predictions:\")\n",
    "print(correct_predictions[['prompt', 'task', 'answer', 'predictions']].head())\n",
    "print(\"\\n\\n\")\n",
    "\n",
    "# Print some incorrect predictions for the consumer_contracts_qa category\n",
    "incorrect_predictions = consumer_contracts_data[consumer_contracts_data['predictions'] != consumer_contracts_data['answer']]\n",
    "print(\"Some incorrect predictions:\")\n",
    "print(incorrect_predictions[['prompt', 'task', 'answer', 'predictions']].head())\n"
   ]
  },
  {
   "cell_type": "markdown",
   "metadata": {
    "id": "eWxUfwYzTSiF"
   },
   "source": [
    "### Are all the incorrect predicitons atleast part of the same task response categories?"
   ]
  },
  {
   "cell_type": "code",
   "execution_count": 71,
   "metadata": {
    "colab": {
     "base_uri": "https://localhost:8080/"
    },
    "id": "8q-VhapNhX0R",
    "outputId": "c41bd3a8-0b61-4efb-aa55-cdc35944fc64"
   },
   "outputs": [
    {
     "data": {
      "text/plain": [
       "(Yes    6\n",
       " No     5\n",
       " Name: predictions, dtype: int64,\n",
       " No     27\n",
       " Yes    23\n",
       " Name: answer, dtype: int64)"
      ]
     },
     "execution_count": 71,
     "metadata": {},
     "output_type": "execute_result"
    }
   ],
   "source": [
    "incorrect_predictions['predictions'].value_counts(), consumer_contracts_data['answer'].value_counts()"
   ]
  },
  {
   "cell_type": "markdown",
   "metadata": {
    "id": "QB1xle5pbcDl"
   },
   "source": [
    "### Is there a relation between amount of data available and the score?"
   ]
  },
  {
   "cell_type": "code",
   "execution_count": 68,
   "metadata": {
    "colab": {
     "base_uri": "https://localhost:8080/",
     "height": 505
    },
    "id": "NptISsPQj2FC",
    "outputId": "67788b73-076d-4213-fcca-4529cfba4c10"
   },
   "outputs": [
    {
     "data": {
      "image/png": "[encoded data removed]",
      "text/plain": [
       "<Figure size 1500x500 with 1 Axes>"
      ]
     },
     "metadata": {},
     "output_type": "display_data"
    },
    {
     "name": "stdout",
     "output_type": "stream",
     "text": [
      "Correlation coefficient between data count and accuracy: -0.008784881622018893\n"
     ]
    }
   ],
   "source": [
    "import pandas as pd\n",
    "import matplotlib.pyplot as plt\n",
    "# Calculate the number of data points for each category\n",
    "category_data_counts = sample_data.groupby('task')['answer'].count().sort_values(ascending=False)\n",
    "\n",
    "# Calculate the accuracy for each category\n",
    "category_accuracies = {}\n",
    "for category in classifying_tasks:\n",
    "  category_data = sample_data[sample_data['task'] == category]\n",
    "  correct_predictions = sum(category_data['predictions'] == category_data['answer'])\n",
    "  total_predictions = len(category_data)\n",
    "  accuracy = correct_predictions / total_predictions\n",
    "  category_accuracies[category] = accuracy\n",
    "\n",
    "# Create a DataFrame with the category, data count, and accuracy\n",
    "results_df = pd.DataFrame({\n",
    "    'category': category_data_counts.index,\n",
    "    'data_count': category_data_counts.values,\n",
    "    'accuracy': [category_accuracies[category] for category in category_data_counts.index]\n",
    "})\n",
    "\n",
    "# Sort the DataFrame by data count\n",
    "results_df = results_df.sort_values(by='data_count', ascending=False)\n",
    "\n",
    "# Plot the data count and accuracy for each category\n",
    "plt.figure(figsize=(15, 5))\n",
    "sns.barplot(x='data_count', y='accuracy', data=results_df)\n",
    "plt.xlabel('Number of data points')\n",
    "plt.ylabel('Accuracy')\n",
    "plt.title('Relationship between Data Count and Accuracy')\n",
    "plt.show()\n",
    "\n",
    "# Calculate the correlation coefficient between data count and accuracy\n",
    "correlation = results_df['data_count'].corr(results_df['accuracy'])\n",
    "print(f\"Correlation coefficient between data count and accuracy: {correlation}\")"
   ]
  },
  {
   "cell_type": "markdown",
   "metadata": {
    "id": "w2E_7SLnz9OS"
   },
   "source": [
    "### Conclusions:\n",
    "\n",
    "- Using TFIDF and GBD we got a test score of 0.71 which is still little overfitted from train score.\n",
    "- The results maybe improved using a different vectorizer or tuning hyperparameters of the model.\n",
    "- The category with the lowest accuracy was `consumer_contracts_qa`, with an accuracy of 0.57.\n",
    "- Further analysis of the results for the `consumer_contracts_qa` category showed that the model was performing poorly on certain types of questions.\n",
    "- Additional data and/or model tuning may be needed to improve the performance of the model on this category."
   ]
  }
 ],
 "metadata": {
  "colab": {
   "provenance": []
  },
  "kernelspec": {
   "display_name": "Python 3 (ipykernel)",
   "language": "python",
   "name": "python3"
  },
  "language_info": {
   "codemirror_mode": {
    "name": "ipython",
    "version": 3
   },
   "file_extension": ".py",
   "mimetype": "text/x-python",
   "name": "python",
   "nbconvert_exporter": "python",
   "pygments_lexer": "ipython3",
   "version": "3.11.5"
  }
 },
 "nbformat": 4,
 "nbformat_minor": 4
}
