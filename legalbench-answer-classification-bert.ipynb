{
 "cells": [
  {
   "cell_type": "code",
   "execution_count": 1,
   "metadata": {
    "_cell_guid": "b1076dfc-b9ad-4769-8c92-a6c4dae69d19",
    "_uuid": "8f2839f25d086af736a60e9eeb907d3b93b6e0e5",
    "execution": {
     "iopub.execute_input": "2024-02-20T15:57:44.035512Z",
     "iopub.status.busy": "2024-02-20T15:57:44.034683Z",
     "iopub.status.idle": "2024-02-20T15:57:59.801241Z",
     "shell.execute_reply": "2024-02-20T15:57:59.799981Z",
     "shell.execute_reply.started": "2024-02-20T15:57:44.035483Z"
    }
   },
   "outputs": [],
   "source": [
    "!pip install transformers datasets evaluate --quiet"
   ]
  },
  {
   "cell_type": "code",
   "execution_count": 15,
   "metadata": {
    "execution": {
     "iopub.execute_input": "2024-02-20T21:07:32.678530Z",
     "iopub.status.busy": "2024-02-20T21:07:32.677547Z",
     "iopub.status.idle": "2024-02-20T21:07:33.055184Z",
     "shell.execute_reply": "2024-02-20T21:07:33.054235Z",
     "shell.execute_reply.started": "2024-02-20T21:07:32.678495Z"
    }
   },
   "outputs": [
    {
     "name": "stdout",
     "output_type": "stream",
     "text": [
      "(9777, 8)\n",
      "Classes 307\n"
     ]
    },
    {
     "data": {
      "text/html": [
       "<div>\n",
       "<style scoped>\n",
       "    .dataframe tbody tr th:only-of-type {\n",
       "        vertical-align: middle;\n",
       "    }\n",
       "\n",
       "    .dataframe tbody tr th {\n",
       "        vertical-align: top;\n",
       "    }\n",
       "\n",
       "    .dataframe thead th {\n",
       "        text-align: right;\n",
       "    }\n",
       "</style>\n",
       "<table border=\"1\" class=\"dataframe\">\n",
       "  <thead>\n",
       "    <tr style=\"text-align: right;\">\n",
       "      <th></th>\n",
       "      <th>index</th>\n",
       "      <th>raw_dataset_id</th>\n",
       "      <th>answer</th>\n",
       "      <th>inputs</th>\n",
       "      <th>prompt_template</th>\n",
       "      <th>prompt</th>\n",
       "      <th>task</th>\n",
       "      <th>label</th>\n",
       "    </tr>\n",
       "  </thead>\n",
       "  <tbody>\n",
       "    <tr>\n",
       "      <th>0</th>\n",
       "      <td>0</td>\n",
       "      <td>51</td>\n",
       "      <td>suggestive</td>\n",
       "      <td>{'index': '51', 'text': 'The mark \"Equine Tech...</td>\n",
       "      <td>A mark is generic if it is the common name for...</td>\n",
       "      <td>A mark is generic if it is the common name for...</td>\n",
       "      <td>abercrombie</td>\n",
       "      <td>302</td>\n",
       "    </tr>\n",
       "    <tr>\n",
       "      <th>1</th>\n",
       "      <td>1</td>\n",
       "      <td>92</td>\n",
       "      <td>fanciful</td>\n",
       "      <td>{'index': '92', 'text': 'The mark \"Lanbe\" for ...</td>\n",
       "      <td>A mark is generic if it is the common name for...</td>\n",
       "      <td>A mark is generic if it is the common name for...</td>\n",
       "      <td>abercrombie</td>\n",
       "      <td>278</td>\n",
       "    </tr>\n",
       "    <tr>\n",
       "      <th>2</th>\n",
       "      <td>2</td>\n",
       "      <td>14</td>\n",
       "      <td>generic</td>\n",
       "      <td>{'index': '14', 'text': 'The mark \"Cutlery\" fo...</td>\n",
       "      <td>A mark is generic if it is the common name for...</td>\n",
       "      <td>A mark is generic if it is the common name for...</td>\n",
       "      <td>abercrombie</td>\n",
       "      <td>281</td>\n",
       "    </tr>\n",
       "    <tr>\n",
       "      <th>3</th>\n",
       "      <td>3</td>\n",
       "      <td>71</td>\n",
       "      <td>arbitrary</td>\n",
       "      <td>{'index': '71', 'text': 'The mark \"Shark\" for ...</td>\n",
       "      <td>A mark is generic if it is the common name for...</td>\n",
       "      <td>A mark is generic if it is the common name for...</td>\n",
       "      <td>abercrombie</td>\n",
       "      <td>260</td>\n",
       "    </tr>\n",
       "    <tr>\n",
       "      <th>4</th>\n",
       "      <td>4</td>\n",
       "      <td>60</td>\n",
       "      <td>arbitrary</td>\n",
       "      <td>{'index': '60', 'text': 'The mark \"Sun\" for co...</td>\n",
       "      <td>A mark is generic if it is the common name for...</td>\n",
       "      <td>A mark is generic if it is the common name for...</td>\n",
       "      <td>abercrombie</td>\n",
       "      <td>260</td>\n",
       "    </tr>\n",
       "  </tbody>\n",
       "</table>\n",
       "</div>"
      ],
      "text/plain": [
       "   index  raw_dataset_id      answer  \\\n",
       "0      0              51  suggestive   \n",
       "1      1              92    fanciful   \n",
       "2      2              14     generic   \n",
       "3      3              71   arbitrary   \n",
       "4      4              60   arbitrary   \n",
       "\n",
       "                                              inputs  \\\n",
       "0  {'index': '51', 'text': 'The mark \"Equine Tech...   \n",
       "1  {'index': '92', 'text': 'The mark \"Lanbe\" for ...   \n",
       "2  {'index': '14', 'text': 'The mark \"Cutlery\" fo...   \n",
       "3  {'index': '71', 'text': 'The mark \"Shark\" for ...   \n",
       "4  {'index': '60', 'text': 'The mark \"Sun\" for co...   \n",
       "\n",
       "                                     prompt_template  \\\n",
       "0  A mark is generic if it is the common name for...   \n",
       "1  A mark is generic if it is the common name for...   \n",
       "2  A mark is generic if it is the common name for...   \n",
       "3  A mark is generic if it is the common name for...   \n",
       "4  A mark is generic if it is the common name for...   \n",
       "\n",
       "                                              prompt         task  label  \n",
       "0  A mark is generic if it is the common name for...  abercrombie    302  \n",
       "1  A mark is generic if it is the common name for...  abercrombie    278  \n",
       "2  A mark is generic if it is the common name for...  abercrombie    281  \n",
       "3  A mark is generic if it is the common name for...  abercrombie    260  \n",
       "4  A mark is generic if it is the common name for...  abercrombie    260  "
      ]
     },
     "execution_count": 15,
     "metadata": {},
     "output_type": "execute_result"
    }
   ],
   "source": [
    "import os\n",
    "import wandb\n",
    "import numpy as np\n",
    "import pandas as pd\n",
    "from sklearn import preprocessing\n",
    "\n",
    "path = \"data\"\n",
    "raw_data_sample_path = os.path.join(path, 'raw_data_sample.json')\n",
    "sample_data = pd.read_json(raw_data_sample_path)\n",
    "\n",
    "le = preprocessing.LabelEncoder()\n",
    "\n",
    "# Fit the encoder to the data\n",
    "sample_data[\"label\"] = le.fit_transform(sample_data[\"answer\"])\n",
    "\n",
    "print(sample_data.shape)\n",
    "print(f\"Classes {len(le.classes_)}\")\n",
    "sample_data.head()"
   ]
  },
  {
   "cell_type": "code",
   "execution_count": 16,
   "metadata": {
    "execution": {
     "iopub.execute_input": "2024-02-20T21:07:36.302263Z",
     "iopub.status.busy": "2024-02-20T21:07:36.301156Z",
     "iopub.status.idle": "2024-02-20T21:07:52.622556Z",
     "shell.execute_reply": "2024-02-20T21:07:52.621573Z",
     "shell.execute_reply.started": "2024-02-20T21:07:36.302228Z"
    }
   },
   "outputs": [
    {
     "name": "stdout",
     "output_type": "stream",
     "text": [
      "DatasetDict({\n",
      "    train: Dataset({\n",
      "        features: ['index', 'raw_dataset_id', 'answer', 'inputs', 'prompt_template', 'prompt', 'task', 'label', '__index_level_0__'],\n",
      "        num_rows: 7821\n",
      "    })\n",
      "    test: Dataset({\n",
      "        features: ['index', 'raw_dataset_id', 'answer', 'inputs', 'prompt_template', 'prompt', 'task', 'label', '__index_level_0__'],\n",
      "        num_rows: 1956\n",
      "    })\n",
      "})\n"
     ]
    },
    {
     "data": {
      "application/vnd.jupyter.widget-view+json": {
       "model_id": "f72cf9b5b77348f080a2124f26ad8f2c",
       "version_major": 2,
       "version_minor": 0
      },
      "text/plain": [
       "  0%|          | 0/8 [00:00<?, ?ba/s]"
      ]
     },
     "metadata": {},
     "output_type": "display_data"
    },
    {
     "data": {
      "application/vnd.jupyter.widget-view+json": {
       "model_id": "58b499e5de3c47d8a911057a92631b1e",
       "version_major": 2,
       "version_minor": 0
      },
      "text/plain": [
       "  0%|          | 0/2 [00:00<?, ?ba/s]"
      ]
     },
     "metadata": {},
     "output_type": "display_data"
    },
    {
     "data": {
      "text/plain": [
       "DatasetDict({\n",
       "    train: Dataset({\n",
       "        features: ['index', 'raw_dataset_id', 'answer', 'inputs', 'prompt_template', 'prompt', 'task', 'label', '__index_level_0__', 'input_ids', 'token_type_ids', 'attention_mask'],\n",
       "        num_rows: 7821\n",
       "    })\n",
       "    test: Dataset({\n",
       "        features: ['index', 'raw_dataset_id', 'answer', 'inputs', 'prompt_template', 'prompt', 'task', 'label', '__index_level_0__', 'input_ids', 'token_type_ids', 'attention_mask'],\n",
       "        num_rows: 1956\n",
       "    })\n",
       "})"
      ]
     },
     "execution_count": 16,
     "metadata": {},
     "output_type": "execute_result"
    }
   ],
   "source": [
    "from datasets import load_dataset, Dataset\n",
    "from transformers import AutoTokenizer\n",
    "\n",
    "dataset = Dataset.from_pandas(sample_data)\n",
    "dataset = dataset.train_test_split(test_size=0.2)\n",
    "print(dataset)\n",
    "\n",
    "tokenizer = AutoTokenizer.from_pretrained(\"bert-base-uncased\")\n",
    "\n",
    "def preprocess_function(examples):\n",
    "    return tokenizer(examples[\"prompt\"], truncation=True)\n",
    "\n",
    "tokenized_data = dataset.map(preprocess_function, batched=True)\n",
    "tokenized_data"
   ]
  },
  {
   "cell_type": "code",
   "execution_count": 20,
   "metadata": {
    "execution": {
     "iopub.execute_input": "2024-02-20T21:19:53.566981Z",
     "iopub.status.busy": "2024-02-20T21:19:53.566608Z",
     "iopub.status.idle": "2024-02-20T21:19:54.175577Z",
     "shell.execute_reply": "2024-02-20T21:19:54.174605Z",
     "shell.execute_reply.started": "2024-02-20T21:19:53.566951Z"
    }
   },
   "outputs": [
    {
     "name": "stderr",
     "output_type": "stream",
     "text": [
      "Some weights of BertForSequenceClassification were not initialized from the model checkpoint at bert-base-uncased and are newly initialized: ['classifier.bias', 'classifier.weight']\n",
      "You should probably TRAIN this model on a down-stream task to be able to use it for predictions and inference.\n"
     ]
    }
   ],
   "source": [
    "import evaluate\n",
    "import numpy as np\n",
    "from transformers import AutoModelForSequenceClassification, TrainingArguments, Trainer\n",
    "from transformers import DataCollatorWithPadding\n",
    "\n",
    "data_collator = DataCollatorWithPadding(tokenizer=tokenizer)\n",
    "\n",
    "accuracy = evaluate.load(\"accuracy\")\n",
    "label2id = dict(zip(le.classes_, range(len(le.classes_))))\n",
    "id2label = dict(zip(range(len(le.classes_)), le.classes_))\n",
    "\n",
    "def compute_metrics(eval_pred):\n",
    "    predictions, labels = eval_pred\n",
    "    predictions = np.argmax(predictions, axis=1)\n",
    "    return accuracy.compute(predictions=predictions, references=labels)\n",
    "\n",
    "\n",
    "model = AutoModelForSequenceClassification.from_pretrained(\n",
    "    \"bert-base-uncased\", num_labels=len(le.classes_), id2label=id2label, label2id=label2id\n",
    ")"
   ]
  },
  {
   "cell_type": "code",
   "execution_count": 22,
   "metadata": {
    "execution": {
     "iopub.execute_input": "2024-02-20T21:20:28.465649Z",
     "iopub.status.busy": "2024-02-20T21:20:28.464826Z",
     "iopub.status.idle": "2024-02-20T21:35:36.542425Z",
     "shell.execute_reply": "2024-02-20T21:35:36.541604Z",
     "shell.execute_reply.started": "2024-02-20T21:20:28.465617Z"
    }
   },
   "outputs": [
    {
     "name": "stderr",
     "output_type": "stream",
     "text": [
      "/opt/conda/lib/python3.10/site-packages/torch/nn/parallel/_functions.py:68: UserWarning: Was asked to gather along dimension 0, but all input tensors were scalars; will instead unsqueeze and return a vector.\n",
      "  warnings.warn('Was asked to gather along dimension 0, but all '\n"
     ]
    },
    {
     "data": {
      "text/html": [
       "\n",
       "    <div>\n",
       "      \n",
       "      <progress value='490' max='490' style='width:300px; height:20px; vertical-align: middle;'></progress>\n",
       "      [490/490 15:05, Epoch 2/2]\n",
       "    </div>\n",
       "    <table border=\"1\" class=\"dataframe\">\n",
       "  <thead>\n",
       " <tr style=\"text-align: left;\">\n",
       "      <th>Epoch</th>\n",
       "      <th>Training Loss</th>\n",
       "      <th>Validation Loss</th>\n",
       "      <th>Accuracy</th>\n",
       "    </tr>\n",
       "  </thead>\n",
       "  <tbody>\n",
       "    <tr>\n",
       "      <td>1</td>\n",
       "      <td>No log</td>\n",
       "      <td>1.427268</td>\n",
       "      <td>0.508691</td>\n",
       "    </tr>\n",
       "    <tr>\n",
       "      <td>2</td>\n",
       "      <td>No log</td>\n",
       "      <td>1.272211</td>\n",
       "      <td>0.509714</td>\n",
       "    </tr>\n",
       "  </tbody>\n",
       "</table><p>"
      ],
      "text/plain": [
       "<IPython.core.display.HTML object>"
      ]
     },
     "metadata": {},
     "output_type": "display_data"
    },
    {
     "name": "stderr",
     "output_type": "stream",
     "text": [
      "/opt/conda/lib/python3.10/site-packages/torch/nn/parallel/_functions.py:68: UserWarning: Was asked to gather along dimension 0, but all input tensors were scalars; will instead unsqueeze and return a vector.\n",
      "  warnings.warn('Was asked to gather along dimension 0, but all '\n"
     ]
    },
    {
     "data": {
      "text/plain": [
       "TrainOutput(global_step=490, training_loss=1.8738884127869897, metrics={'train_runtime': 906.7752, 'train_samples_per_second': 17.25, 'train_steps_per_second': 0.54, 'total_flos': 4126853536819200.0, 'train_loss': 1.8738884127869897, 'epoch': 2.0})"
      ]
     },
     "execution_count": 22,
     "metadata": {},
     "output_type": "execute_result"
    }
   ],
   "source": [
    "wandb.init(mode=\"disabled\")\n",
    "\n",
    "training_args = TrainingArguments(\n",
    "    output_dir=\"legalbench_answer_classification\",\n",
    "    learning_rate=2e-5,\n",
    "    per_device_train_batch_size=16,\n",
    "    per_device_eval_batch_size=16,\n",
    "    num_train_epochs=2,\n",
    "    weight_decay=0.01,\n",
    "    evaluation_strategy=\"epoch\",\n",
    "    save_strategy=\"epoch\",\n",
    "    load_best_model_at_end=True\n",
    ")\n",
    "\n",
    "trainer = Trainer(\n",
    "    model=model,\n",
    "    args=training_args,\n",
    "    train_dataset=tokenized_data[\"train\"],\n",
    "    eval_dataset=tokenized_data[\"test\"],\n",
    "    tokenizer=tokenizer,\n",
    "    data_collator=data_collator,\n",
    "    compute_metrics=compute_metrics,\n",
    ")\n",
    "\n",
    "trainer.train()"
   ]
  },
  {
   "cell_type": "code",
   "execution_count": 27,
   "metadata": {
    "execution": {
     "iopub.execute_input": "2024-02-20T21:40:06.409832Z",
     "iopub.status.busy": "2024-02-20T21:40:06.408967Z",
     "iopub.status.idle": "2024-02-20T21:42:41.483510Z",
     "shell.execute_reply": "2024-02-20T21:42:41.482578Z",
     "shell.execute_reply.started": "2024-02-20T21:40:06.409799Z"
    }
   },
   "outputs": [
    {
     "name": "stderr",
     "output_type": "stream",
     "text": [
      "/opt/conda/lib/python3.10/site-packages/torch/nn/parallel/_functions.py:68: UserWarning: Was asked to gather along dimension 0, but all input tensors were scalars; will instead unsqueeze and return a vector.\n",
      "  warnings.warn('Was asked to gather along dimension 0, but all '\n"
     ]
    },
    {
     "data": {
      "text/html": [
       "\n",
       "    <div>\n",
       "      \n",
       "      <progress value='307' max='245' style='width:300px; height:20px; vertical-align: middle;'></progress>\n",
       "      [245/245 03:13]\n",
       "    </div>\n",
       "    "
      ],
      "text/plain": [
       "<IPython.core.display.HTML object>"
      ]
     },
     "metadata": {},
     "output_type": "display_data"
    },
    {
     "data": {
      "text/plain": [
       "{'eval_loss': 1.2489110231399536,\n",
       " 'eval_accuracy': 0.5215445595192431,\n",
       " 'eval_runtime': 155.0611,\n",
       " 'eval_samples_per_second': 50.438,\n",
       " 'eval_steps_per_second': 1.58,\n",
       " 'epoch': 2.0}"
      ]
     },
     "execution_count": 27,
     "metadata": {},
     "output_type": "execute_result"
    }
   ],
   "source": [
    "trainer.evaluate(tokenized_data[\"train\"])"
   ]
  },
  {
   "cell_type": "code",
   "execution_count": 28,
   "metadata": {
    "execution": {
     "iopub.execute_input": "2024-02-20T21:42:41.485136Z",
     "iopub.status.busy": "2024-02-20T21:42:41.484852Z",
     "iopub.status.idle": "2024-02-20T21:43:21.045317Z",
     "shell.execute_reply": "2024-02-20T21:43:21.044397Z",
     "shell.execute_reply.started": "2024-02-20T21:42:41.485111Z"
    }
   },
   "outputs": [
    {
     "name": "stderr",
     "output_type": "stream",
     "text": [
      "/opt/conda/lib/python3.10/site-packages/torch/nn/parallel/_functions.py:68: UserWarning: Was asked to gather along dimension 0, but all input tensors were scalars; will instead unsqueeze and return a vector.\n",
      "  warnings.warn('Was asked to gather along dimension 0, but all '\n"
     ]
    },
    {
     "data": {
      "text/plain": [
       "{'eval_loss': 1.2722113132476807,\n",
       " 'eval_accuracy': 0.5097137014314929,\n",
       " 'eval_runtime': 39.5496,\n",
       " 'eval_samples_per_second': 49.457,\n",
       " 'eval_steps_per_second': 1.568,\n",
       " 'epoch': 2.0}"
      ]
     },
     "execution_count": 28,
     "metadata": {},
     "output_type": "execute_result"
    }
   ],
   "source": [
    "trainer.evaluate(tokenized_data[\"test\"])"
   ]
  },
  {
   "cell_type": "code",
   "execution_count": null,
   "metadata": {},
   "outputs": [],
   "source": [
    "from huggingface_hub import notebook_login\n",
    "\n",
    "notebook_login()"
   ]
  },
  {
   "cell_type": "code",
   "execution_count": 25,
   "metadata": {
    "execution": {
     "iopub.execute_input": "2024-02-20T21:36:35.240640Z",
     "iopub.status.busy": "2024-02-20T21:36:35.240006Z",
     "iopub.status.idle": "2024-02-20T21:36:49.777164Z",
     "shell.execute_reply": "2024-02-20T21:36:49.776248Z",
     "shell.execute_reply.started": "2024-02-20T21:36:35.240606Z"
    }
   },
   "outputs": [
    {
     "data": {
      "application/vnd.jupyter.widget-view+json": {
       "model_id": "0395a603c69f402babb51dd657d1d359",
       "version_major": 2,
       "version_minor": 0
      },
      "text/plain": [
       "events.out.tfevents.1708464029.65e4bd685465.34.1:   0%|          | 0.00/31.1k [00:00<?, ?B/s]"
      ]
     },
     "metadata": {},
     "output_type": "display_data"
    },
    {
     "data": {
      "application/vnd.jupyter.widget-view+json": {
       "model_id": "c80d8f97abd44e6285858fc041f46813",
       "version_major": 2,
       "version_minor": 0
      },
      "text/plain": [
       "model.safetensors:   0%|          | 0.00/439M [00:00<?, ?B/s]"
      ]
     },
     "metadata": {},
     "output_type": "display_data"
    },
    {
     "data": {
      "application/vnd.jupyter.widget-view+json": {
       "model_id": "46e8affbff0c403d8d284c18965e4975",
       "version_major": 2,
       "version_minor": 0
      },
      "text/plain": [
       "training_args.bin:   0%|          | 0.00/4.73k [00:00<?, ?B/s]"
      ]
     },
     "metadata": {},
     "output_type": "display_data"
    },
    {
     "data": {
      "application/vnd.jupyter.widget-view+json": {
       "model_id": "a4f456ee11394a418086a3c973065e13",
       "version_major": 2,
       "version_minor": 0
      },
      "text/plain": [
       "Upload 3 LFS files:   0%|          | 0/3 [00:00<?, ?it/s]"
      ]
     },
     "metadata": {},
     "output_type": "display_data"
    },
    {
     "data": {
      "text/plain": [
       "CommitInfo(commit_url='https://huggingface.co/prithviraj-maurya/legalbench_answer_classification/commit/d40d04b964e53a808bc58ec201c57d23fc1b970c', commit_message='End of training', commit_description='', oid='d40d04b964e53a808bc58ec201c57d23fc1b970c', pr_url=None, pr_revision=None, pr_num=None)"
      ]
     },
     "execution_count": 25,
     "metadata": {},
     "output_type": "execute_result"
    }
   ],
   "source": [
    "trainer.push_to_hub()"
   ]
  }
 ],
 "metadata": {
  "kaggle": {
   "accelerator": "nvidiaTeslaT4",
   "dataSources": [
    {
     "datasetId": 4438986,
     "sourceId": 7625418,
     "sourceType": "datasetVersion"
    }
   ],
   "dockerImageVersionId": 30648,
   "isGpuEnabled": true,
   "isInternetEnabled": true,
   "language": "python",
   "sourceType": "notebook"
  },
  "kernelspec": {
   "display_name": "Python 3 (ipykernel)",
   "language": "python",
   "name": "python3"
  },
  "language_info": {
   "codemirror_mode": {
    "name": "ipython",
    "version": 3
   },
   "file_extension": ".py",
   "mimetype": "text/x-python",
   "name": "python",
   "nbconvert_exporter": "python",
   "pygments_lexer": "ipython3",
   "version": "3.11.5"
  }
 },
 "nbformat": 4,
 "nbformat_minor": 4
}
