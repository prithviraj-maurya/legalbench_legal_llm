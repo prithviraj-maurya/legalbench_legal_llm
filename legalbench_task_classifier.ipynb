{
 "cells": [
  {
   "cell_type": "code",
   "execution_count": 1,
   "metadata": {
    "id": "Fv1g0g-oKM7J"
   },
   "outputs": [],
   "source": [
    "import os\n",
    "path = \"data\"\n",
    "\n",
    "def createPath(dir):\n",
    "  return os.path.join(path, dir)\n",
    "\n",
    "def map_inputs(input):\n",
    "  for key in input.keys():\n",
    "    if key != \"index\":\n",
    "      return input[key]"
   ]
  },
  {
   "cell_type": "code",
   "execution_count": 2,
   "metadata": {
    "id": "SUoyugNvQTgI"
   },
   "outputs": [],
   "source": [
    "import pandas as pd\n",
    "\n",
    "raw_data_sample_path = os.path.join(path, 'raw_data_sample.json')\n",
    "sample_data = pd.read_json(raw_data_sample_path)\n",
    "\n",
    "sample_data['question'] = sample_data['inputs'].map(lambda input: map_inputs(input))"
   ]
  },
  {
   "cell_type": "code",
   "execution_count": 3,
   "metadata": {
    "colab": {
     "base_uri": "https://localhost:8080/",
     "height": 293
    },
    "id": "3xmqtYjvQVKv",
    "outputId": "52ce424f-eb85-4e5f-a4fa-43d047780568"
   },
   "outputs": [
    {
     "data": {
      "application/vnd.google.colaboratory.intrinsic+json": {
       "summary": "{\n  \"name\": \"sample_data\",\n  \"rows\": 9777,\n  \"fields\": [\n    {\n      \"column\": \"index\",\n      \"properties\": {\n        \"dtype\": \"number\",\n        \"std\": 2832,\n        \"min\": 0,\n        \"max\": 9826,\n        \"num_unique_values\": 9777,\n        \"samples\": [\n          2627,\n          1758,\n          2304\n        ],\n        \"semantic_type\": \"\",\n        \"description\": \"\"\n      }\n    },\n    {\n      \"column\": \"raw_dataset_id\",\n      \"properties\": {\n        \"dtype\": \"number\",\n        \"std\": 1834,\n        \"min\": 1,\n        \"max\": 10921,\n        \"num_unique_values\": 906,\n        \"samples\": [\n          259,\n          4496,\n          1998\n        ],\n        \"semantic_type\": \"\",\n        \"description\": \"\"\n      }\n    },\n    {\n      \"column\": \"answer\",\n      \"properties\": {\n        \"dtype\": \"category\",\n        \"num_unique_values\": 307,\n        \"samples\": [\n          \"Humanigen, Inc.\",\n          \"accrue\",\n          \"$17783\"\n        ],\n        \"semantic_type\": \"\",\n        \"description\": \"\"\n      }\n    },\n    {\n      \"column\": \"inputs\",\n      \"properties\": {\n        \"dtype\": \"object\",\n        \"semantic_type\": \"\",\n        \"description\": \"\"\n      }\n    },\n    {\n      \"column\": \"prompt_template\",\n      \"properties\": {\n        \"dtype\": \"category\",\n        \"num_unique_values\": 161,\n        \"samples\": [\n          \"Instruction: Read the segment of a merger agreement and answer the multiple-choice question by choosing the option that best characterizes the agreement.\\nQuestion: Under what circumstances could the Board take actions on a different acquisition proposal notwithstanding the no-shop provision?\\nOption A: If failure to take actions would lead to \\\"breach\\\" of fiduciary duties\\nOption B: If failure to take actions would be \\\"inconsistent\\\" with fiduciary duties\\nOption C: If failure to take actions would lead to \\\"reasonably likely/expected breach\\\" of fiduciary duties\\nOption D: If failure to take actions would lead to \\\"reasonably likely/expected to be inconsistent\\\" with fiduciary duties\\nOption E: If failure to take actions would lead to \\\"reasonably likely/expected violation\\\" of fiduciary duties\\nOption F: If taking such actions is \\\"required to comply\\\" with fiduciary duties\\nOption G: If failure to take actions would lead to \\\"violation\\\" of fiduciary duties\\nOption H: Under no circumstances could the Board do so.\\nOption I: Other circumstances\\n\\nMerger Agreement: Section 5.4 No Company Solicitation. <omitted> (b) Notwithstanding anything in Section 5.4(a) to the contrary, until the Company Stockholder Approval is obtained, if the Company receives a bona fide written Alternative Acquisition Proposal made after the date hereof that does not result from a material breach of this Section 5.4, and the Company Board determines in good faith (after consultation with outside legal counsel and a nationally recognized financial advisor) that such Alternative Acquisition Proposal is, or could reasonably be expected to lead to, a Superior Acquisition Proposal, (i) the Company may negotiate and enter into an Acceptable Confidentiality Agreement with the Person making such Alternative Acquisition Proposal; provided, that the Company shall promptly (and in no event later than twenty-four (24) hours after execution thereof) deliver a copy of such Acceptable Confidentiality Agreement to Parent, (ii) following entry into such Acceptable Confidentiality Agreement by the Company, the Company and its Representatives may provide information (including nonpublic information) subject to such executed Acceptable Confidentiality Agreement; provided, that any nonpublic information provided to such Person, including if posted to an electronic data room, shall be provided to Parent prior to or substantially concurrently with the time it is provided to such Person, and (iii) the Company and its Representatives may engage in discussion or negotiations for such Alternative Acquisition Proposal with such Person and its Representatives. (Page 59)\\nAnswer: H\\n\\nMerger Agreement: {{text}}\\nAnswer:\",\n          \"Instruction: Read the segment of a merger agreement and answer the multiple-choice question by choosing the option that best characterizes the agreement.\\nQuestion: What is the Forward Looking Standard (FLS) with respect to Material Adverse Effect (MAE)?\\nOption A: \\\"Could\\\" (reasonably) be expected to\\nOption B: \\\"Would\\\"\\nOption C: \\\"Would\\\" (reasonably) be expected to\\nOption D: No\\nOption E: Other forward-looking standard\\n\\nMerger Agreement: \\u201cCompany Material Adverse Effect\\u201d means, with respect to the Company, any effect that, (1) would reasonably be expected to have a material adverse effect on the business, assets, financial condition or results of operations of the Company and its Subsidiaries taken as a whole, or (2) would reasonably be expected to prevent or materially delay the Company from consummating the Merger; provided that in no event shall any effect to the extent arising out of or relating to any of the following (alone or in combination) be taken into account in determining whether a Company Material Adverse Effect has occurred:   (i)         changes in the Company\\u2019s stock price or trading volume, or any change in the credit rating of the Company or any of its Subsidiaries (provided that the exception in this clause (i) shall not prevent or otherwise affect a determination that any effect underlying such failures has resulted in, or contributed to, a Company Material Adverse Effect);   (ii)         general business, economic or political conditions in the United States or any other country or region in the world, or changes therein;   (iii)         conditions in the financial, credit, banking, capital or currency markets in the United States or any other country or region in the world, or changes therein, including (A) changes in interest rates in the United States or any other country or region in the world, or changes therein, and changes in exchange rates for the currencies of any countries and (B) any suspension of trading in securities (whether equity, debt, derivative or hybrid securities) generally on any securities exchange or over-the-counter market operating in the United States or any other country or region in the world;   4       (iv)         general conditions in any industry, location or market in which the Company operates;   (v)         changes in political conditions in the United States or any other country or region in the world;   (vi)         acts of hostilities, war, sabotage, cyberterrorism, terrorism or military actions (including any outbreak, escalation or general worsening of any such acts of hostilities, war, sabotage, cyberterrorism, terrorism or military actions) in the United States or any other country or region in the world;   (vii)          earthquakes, hurricanes, tsunamis, tornadoes, floods, mudslides, wild fires, weather conditions, outbreaks, epidemics, pandemics or disease outbreaks (including the coronavirus (COVID-19 pandemic), other public health conditions or other natural or man-made disasters or acts of God in the United States or any other country or region in the world, or changes therein;   (viii)         any COVID-19 Measures or changes therein;   (ix)         changes or proposed changes in GAAP or other accounting standards, regulations or principles (or the enforcement or interpretation of any of the foregoing);   (x)         any Stockholder Litigation or any demand or Proceeding, including for appraisal of the fair value of any shares of Company Common Stock pursuant to the DGCL in connection herewith;   (xi)         changes or proposed changes in Applicable Law (or the enforcement thereof);   (xii)         any failure, in and of itself, to meet projections, forecasts, estimates or predictions in respect of revenues, EBITDA, free cash flow, earnings or other financial operating metrics for any period (provided that the exception in this clause (xii) shall not prevent or otherwise affect a determination that any effect underlying such failures has resulted in, or contributed to, a Company Material Adverse Effect);   (xiii)         the announcement and performance of this Agreement, including any resulting impact on relationships, contractual or otherwise, with Third Parties, including Governmental Authorities and employees of the Company or its Subsidiaries; or   (xiv)         any action taken by the Company or any of its Subsidiaries that is required by this Agreement to be taken by the Company or any of its Subsidiaries, or that is taken or not taken with the prior written consent or at the request of Parent;   provided, that any effect referred to in clause (ii), (iii), (iv), (v), (vi) or (vii) may be taken into account to the extent such effect has a disproportionate adverse effect on the Company and its Subsidiaries, taken as a whole, as compared to other participants in the industries or geographic locations in which the Company and its Subsidiaries operate (in which case, the incremental disproportionate adverse effect may be taken into account in determining whether a Company Material Adverse Effect has occurred). (Pages 9-10)\\nAnswer: C\\n\\nMerger Agreement: {{text}}\\nAnswer:\",\n          \"From each excerpt, extract the names of the defendants that are companies.\\n\\nExcerpt:   14. Plaintiff, as set forth in the attached cer tification, purchased J uniper securities at  artificially inflated prices dur ing the Class Period and has been damaged upon the revelation of the  alleged corrective disclosure.   15. Defendant Juniper is a Delaware corporation with its headquarters located at 1194 North  Mathilda Avenue, Sunnyvale, CA 94089.  The commo n stock is traded on the New York Stock  Exchange (\\u201cNYSE\\u201d) under the ticker symbol \\u201cJNPR.\\u201d  16. Defendant Kevin R. Johnson (\\u201cJohnson\\u201d) has served as the Company\\u2019s Chief Executive  Officer throughout the Class Period.  17. Defendant Pradeep S. Sindhu (\\u201cSindhu\\u201d) is  the Company\\u2019s Vice Chairman, Chief  Technology Officer and Founder. Defendant Sindhu sold 300,000 shares of the Company\\u2019s stock on  August 2, 2013, less than a week before the FCPA investigation was announced, and also sold 52,500  Juniper shares over three trad ing sessions between January 30, 2013 through February 1, 2013.   18. Defendant Robyn M. Denholm (\\u201cDenholm\\u201d) ha s served as the Company\\u2019s Executive  Vice President and Chief Financial O fficer throughout the Class Period.  19. Defendant Gene Zamiska (\\u201cZamiska\\u201d) has se rved as the Company\\u2019s Vice President,  Finance throughout the Class Period.  Defendant Zamiska served as the Company\\u2019s Corporate  Controller through February 26, 2013.  20. The defendants referenced above in \\u00b6\\u00b6 15 \\u2013 18 are sometimes referred to herein as the  \\u201cIndividual Defendants.\\u201d  Case3:13-cv-03733-WHO   Document1   Filed08/12/13   Page4 of 20  COMPLAINT FOR VIOLATIONS OF THE FEDERAL SECURITIES LAWS  4 1  2 3 4 5 6  7  8 9  10 11 12  13  14 15 16 17 18  19  20 21 22 23 24  25  26 27 28 \\nCompany defendants: Juniper Networks, Inc.\\n\\nExcerpt: \\t 10 \\t11. \\tPlaintiff Ryan Kelly purchased Electronic Arts common stock during the Class Period  11 as described in the Certification attached hereto and incorporated herein by reference and suffered  12 damages thereon. \\t 13 \\t12. \\tDefendant Electronic Arts, headquartered in Redwood City, California, develops,  14 markets, publishes and distributes game software content and services. During the Class Period,  15 Electronic Arts had more than 309 million shares of common stock outstanding, which shares traded  16 in an efficient market on the NASDAQ under the ticker symbol \\\"EA.\\\" Electronic Arts was followed  17 by scores of stock analysts and stock rating agencies and was constantly in communication with the  18 markets and investors in quarterly conference calls and frequent presentations to investor and analyst  19 conferences. Electronic Arts also filed periodic public reports with the SEC, and regularly issued  20 press releases to the financial press. \\t 21 \\t13. \\tDefendant Andrew Wilson (\\\"Wilson\\\") is, and was throughout the Class Period, an  22 executive of Electronic Arts, assuming the position of its Chief Executive Officer (\\\"CEO\\\") and a  23 director of the Company effective September 15, 2013. \\t 24 \\t14. \\tDefendant Blake J. Jorgensen (\\\"Jorgensen\\\") is, and was throughout the Class Period,  25 I Electronic Arts' Chief Financial Officer and an Executive Vice President. \\t 26 \\t15. \\tDefendant Frank D. Gibeau (\\\"Gibeau\\\") is, and was throughout the Class Period,  27 President of the EA Labels.  28  COMPLAINT FOR VIOLATIONS OF THE FEDERAL SECURITIES LAWS Case3:13-cv-05837   Document1   Filed12/17/13   Page5 of 251  2  3  4  5  6  8  9  10  11  12  13  14  15  16  17  18  19  All  21  22  23  24  25  26  27  28 16. Defendant Patrick Soderlund (\\\"Soderlund\\\") is, and was throughout the Class Period,  I Executive Vice President of the EA Games Label.  17. Defendant Peter Robert Moore (\\\"Moore\\\") is, and was throughout the Class Period,  I Electronic Arts' President and Chief Ope\\nCompany defendants: Electronic Arts Inc.\\n\\nExcerpt:  11. Plaintiff, as set forth in th e attached certification, purchas ed Catalyst securities at  artificially inflated prices dur ing the Class Period and has b een damaged upon the revelation of  the alleged corrective disclosures.  12.  Defendant Catalyst is a Coral Gates, Florida headquartered company located at  355 Alhambra Circle Suite 1500 Coral Gates, FL 33134. The common stock is traded on the  NASDAQ Stock Market (\\\"NASDAQ\\\") unde r the ticker symbol \\\"CPRX.\\\"  13. Defendant Patrick J. McEnany (\\\"McEna ny\\\") is the Company\\u2019s co-founder, CEO  and President.  14.  Defendant Dr. Hubert E. Huckel M.D.  (\\\"Huckel\\\") is the Company\\u2019s co-founder  and one of its directors.  15. Defendant Steven R. Miller Ph. D. (\\\"M iller\\\") is the company\\u2019s COO and CSO.  16.  The defendants referenced above in \\u00b6\\u00b6 13- 15 are sometimes referred to herein as  the \\\"Individual Defendants.\\\"  DEFENDANTS' WRONGDOING    Background   Case 1:13-cv-23878-UU   Document 1   Entered on FLSD Docket 10/25/2013   Page 4 of 20  5 17. Catalyst is a specialty pharmaceutical company which develops and  commercializes drugs treating orphan (rare) neuromuscular an d neurological diseases.  18. Lambert-Eaton Myasthenic Syndrome (\\u201cLEM S\\u201d) is an extremely serious disase  which is also extremely rare, afflicting about 3.4 persons per million, and about one to two thousand patients in the United States.  19. FDA rules permit so-called \\u201ccompassionate use\\u201d \\u2013 use of a drug that has not been  approved by the FDA outside of clinical trials. A patient may be given drugs under a  compassionate use program if the patient may benefit from the treatment, the therapy can be  given safely outside the clinical trial setting, no other alternative therapy is available, and the  drug developer agrees to provide access to the drug.  20. Jacobus is a tiny privat e pharmaceutical company in  New Jersey, with only  dozens of employees, and only 35 as of 2009. Jacobus has b een manufacturing 3,4 DAP and  providing it to patients through a \\nCompany defendants: Catalyst Pharmaceutical Partners, Inc.\\n\\nExcerpt: {{text}}\\nCompany defendants:\"\n        ],\n        \"semantic_type\": \"\",\n        \"description\": \"\"\n      }\n    },\n    {\n      \"column\": \"prompt\",\n      \"properties\": {\n        \"dtype\": \"string\",\n        \"num_unique_values\": 8495,\n        \"samples\": [\n          \"Label \\\"Yes\\\" if the paragraph interprets a statue using a dictionary definition for terms in the statute. The paragraph must reference that it is using a dictionary, or discuss the logic behind using a dictionary. Otherwise label \\\"No\\\".\\n\\nText: the texas code does not define election laws, and we have found no case construing this phrase. thus, we first look to the ordinary, contemporary, common meaning of election laws. see perrin v. united states, 444 u.s. 37, 42, 100 s.ct. 311, 314, 62 l.ed.2d 199 (1979) (noting that it is a fundamental canon of statutory construction ... that, unless otherwise defined, words will be interpreted as taking their ordinary, contemporary, common meaning). we think that the common meaning of election laws is laws that specifically govern elections, rather than generally applicable laws that may affect elections. if the texas legislature wanted 31.003 to cover the latter, we doubt that it would have inserted the adjectival modifier election directly before the noun law. by forming an open compound phrase such as election law, the texas legislature meant a combination of separate words that are so closely related as to constitute a single concept. chicago manual of style 6.33 (14th rev. ed. 1993). an election district, for instance, is not a district devised for many functions, including elections; it is a district created for the purposes of elections. 5 oxford english dictionary 116 (2d ed. 1989). moreover, an election board is not an agency that carries out all the responsibilities of a municipality, including elections; it is an agency charged with the conduct of elections. blacks law dictionary 519 (6th ed.1990).\\nLabel: Yes\\n\\nText: however, lederman does not cite, nor have we found, any minnesota decision that applies 541.051, subd. 1(c) to actions against an owner for injuries incurred during construction. indeed, the statutory language cautions against such a reading. section 541.051, subd. l(c)s reference to actions alleging negligence in the maintenance, operation or inspection of an improvement to real property suggests an improvement that already has been completed, but that must be kept in a state of repair. for instance, blacks law dictionary defines maintenance as [t]he upkeep or preservation of condition of property, including cost of ordinary repairs necessary and proper from time to time for that purpose. blacks law dictionary 953 (6th ed.1990); see also gorton v. mashburn, 995 p.2d 1114, 1116 (okla.1999) (maintenance is best characterized as after-care or upkeep.); websters third new international dictionary 1170, 1581 (1960) (defining inspection as an examination ... of an installation and operation as the quality or state of being functional or operative). in this case, constructing the shoreline suites constituted more than mere repair, the improvement as it existed at the time of ledermans injury could not be called an installation, and the suites were not functional or operative.\\nLabel: Yes\\n\\nText: it might be thought, and indeed firstsouth argues, that this contention is foreclosed by the stipulation of the parties that the loan was secured by a first lien on residential real property. on the other hand, the stipulation could, we suppose, be read simply as an agreement that the property was residential in fact, that is, that structures in which people lived, or were to live, had been built on it, thus leaving open the question of law whether the property was residential as that term is used in section 501(a)(1)(a). as a rule, stipulations are not considered binding as to issues of law, and it is conceivable that even a word like residential, which has a well-understood meaning in the world, as opposed to in court, might have been used by congress as a term of art.\\nLabel: No\\n\\nText: initially, and as a question of first impression in this circuit, we must interpret the meaning of a portion of 552a(e)(7). section 552a(e)(7) prohibits federal agencies from maintaining records describing how any individual exercises rights guaranteed by the first amendment unless expressly authorized by statute or by the individual about whom the record is maintained or unless pertinent to and within the scope of an authorized law enforcement activity.\\\" 5 u.s.c. 552a(e)(7) (emphasis added). the precise meaning of the emphasized portion is not defined by the statute itself. the district court compared the decisions of other circuits which have interpreted this particular section and adopted a rule requiring agencies to demonstrate that any and all records maintained on an individuals exercise of first amendment rights are relevant to an authorized law enforcement activity of the agency, and that there exists a sufficient basis for the maintenance of such records. 705 f.supp. at 1043 (emphasis in original). it is this definition that the parties now dispute. todd argues that agencies should be made to show a substantial relationship between the records and the government activity. he insists that a relevancy standard acts to dilute his first amendment rights.\\nLabel: No\\n\\nText: . \\\"we have also previously questioned whether a bia decision is entitled to deference when, as here, the bia has affirmed without opinion the decision of the ij pursuant to 8 c.f.r. 1003.1(e)(4). ng v. atty gen., 436 f.3d 392, 395 n. 4 (3d cir.2006); see also smriko v. ashcroft, 387 f.3d 279, 289 n. 6 (3d cir.2004) (\\\"[i]t would seem to be, at the very least, an open question as to whether an ij's decision affirmed through the streamlining process would be entitled to chevron deference ... [deferring to the reasoning of an ij from which the bia would be free to depart in other cases would seem highly problematic.); singh v. att'y gen., 383 f.3d 144, 152 (3d cir.2004) (\\\"[t]he bia, by affirming without opinion, gave no considered and authoritative agency-wide interpretation of the statute. ...).\\nLabel:\",\n          \"Instruction: Read the segment of a merger agreement and answer the multiple-choice question by choosing the option that best characterizes the agreement.\\nQuestion: How accurate must the fundamental representations and warranties be according to the bring down provision?\\nOption A: Accurate at another materiality standard (e.g., hybrid standard)\\nOption B: Accurate in all material respects\\nOption C: Accurate in all respects\\n\\nMerger Agreement: (b)     Additional Conditions to Obligation of Parent and Merger Sub. <omitted> the representations and warranties of the Company set forth in Article 3 shall be true and correct <omitted> at and as of the Closing as if made at and as of such time (Page 11)\\nAnswer: A\\n\\nMerger Agreement: 7.3     Conditions to the Obligations of the Parent and the Merger Sub  <omitted> (iv) all other representations and warranties of the Company contained in this Agreement shall be true and correct as of the Closing Date, as though made on and as of the Closing Date (Pages 48-49)\\nAnswer:\",\n          \"Does the clause specify a license grant that is irrevocable or perpetual?\\n\\nClause: If FMI is unable or unwilling to develop and commercialize an Immuno Clinical Study assay or CDx assay resulting from the Immunotherapy Testing Platform Development Program in a given country within the Territory as specified in an R&D Plan for any reason other than a breach of this Agreement by Roche, and on the timeline agreed to in such R&D Plan, then, effective on the end of the timeline specified in such R&D Plan, FMI hereby grants to Roche a non-exclusive, royalty-free, perpetual, and sublicensable license under any intellectual property invented by FMI arising from the Immunotherapy Testing Platform Program or the Immunotherapy Testing Platform Development that is necessary for Roche to develop and commercialize such tests in such country in the Territory.\\nLabel: Yes\\n\\nClause: Supplier hereby grants Bank of America a nonexclusive, worldwide, irrevocable, perpetual license to: (a) any patents related to or necessary or desirable to use the Software to the extent such patents are now held, licensed to or hereafter acquired by Supplier, for the purpose of allowing Bank of America and its Affiliates and permitted assigns to install, copy, use, execute, modify, distribute (as necessary or useful for Bank of America and its Affiliates and permitted assigns to enjoy their rights as set forth in the Agreement), make, have made, enhance, improve and alter the Software (both in Object Code and Source Code form) as necessary to conduct Bank of America business in accordance with the terms and restrictions or this Section; (b) any Copyrights now held, licensed to or hereafter acquired by Supplier in the Software for the purpose of allowing Bank of America and its Affiliates an permitted assigns to install, copy, use, execute, modify, distribute (as necessary or useful for Bank of America and its Affiliates and permitted assigns to enjoy their fights as set forth In the Agreement, produce derivative works from and<omitted>display such Software (both in Object Code and Source Code for ); any (c) other Intellectual Property Rights or Supplier in the Software as are necessary or useful for Bank of America, its Affiliates and permitted assigns to install, copy, use, execute, modify, distribute, enhance, improve and alter and copy the Software (both in Object Code and Source Code form) for the purpose of conducting Bank of America business in accordance with the terms and restrictions of this Section.\\nLabel: Yes\\n\\nClause: RemainCo shall have, and SpinCo hereby grants to RemainCo, an unlimited, non-exclusive, perpetual, irrevocable, royalty free, worldwide right and license to use the content contained in the Steam Book, including the current edition and any past edition and any future edition to which RemainCo makes a contribution, for any purpose, including, without limitation, to reproduce, publicly display, modify, make derivative works, distribute, publicly perform and distribute for RemainCo's internal business purposes, including in connection with customer related activities, provided, however, that RemainCo shall (i) not use any non-nuclear content contained in the Steam Book in connection with publishing or distributing a publication which competes with the Steam Book and (ii) provide attribution and accreditation using a copyright notice having the format required by law in connection with the use of any protectable expression of the non-nuclear content contained in the Steam Book\\nLabel: Yes\\n\\nClause: Said examination shall be at WLI's sole cost and expense during normal business hours and upon reasonable notice, and may not be conducted more than once annually; provided, however, -------- ------- that if such audit reveals an underpayment by Power2Ship of more than 10% for the period audited, Power2Ship shall pay WLI's actual costs and expenses for performing such audit.\\nLabel: No\\n\\nClause: Airspan shall not be liable to Distributor on account of termination or expiration of this Agreement for reimbursement or damages for loss of goodwill, prospective profits, or anticipated orders, or on account of any expenditures, investments, leases, or commitments made by either party, or for any other reason whatsoever based upon or growing out of such termination or expiration.\\nLabel: No\\n\\nClause: For the avoidance of doubt, it is recorded that SAP AFRICA will not be liable under this AGREEMENT for: 11. 3. 1 the MODIFICATION or improvement of the SOFTWARE by TELKOM to fit the particular requirements of TELKOM; or 11. 3. 2 the correction of any data errors resulting from MODIFICATIONS or EXTENSIONS by TELKOM or its agents; or 11. 3. 3 the correction of any data errors as a result of misuse of the SOFTWARE by TELKOM or its agents; or 11. 3. 4 preparation or conversion of data by TELKOM into the form required for use with the SOFTWARE.\\nLabel: No\\n\\nClause: Subject to the terms and conditions of this Agreement, the Company hereby grants to Allscripts and its Affiliates a non-exclusive, royalty- free, irrevocable [***] non-transferable (except in accordance with Section 28.4), sublicensable (through multiple levels of sublicensees), fully paid- up right and license under all of the Company's Intellectual Property to use the Company's brands, trademarks, product and service names, logos and slogans (the \\\"Company Marks\\\"), throughout the Territory, solely in connection with the marketing, selling, or provision of the Installed Software and the Subscription Software Services and Merchant Processing Services permitted hereunder or to otherwise fulfill the terms of this Agreement. [***].\\nLabel:\"\n        ],\n        \"semantic_type\": \"\",\n        \"description\": \"\"\n      }\n    },\n    {\n      \"column\": \"task\",\n      \"properties\": {\n        \"dtype\": \"category\",\n        \"num_unique_values\": 161,\n        \"samples\": [\n          \"maud_fiduciary_exception__board_determination_standard\",\n          \"maud_fls_(mae)_standard\",\n          \"ssla_company_defendants\"\n        ],\n        \"semantic_type\": \"\",\n        \"description\": \"\"\n      }\n    },\n    {\n      \"column\": \"question\",\n      \"properties\": {\n        \"dtype\": \"string\",\n        \"num_unique_values\": 6563,\n        \"samples\": [\n          \"If Party A discovers that Party B has violated the Integrity Agreement attached hereto by bribing Party A's working personnel, Party A may elect to impose a penalty of RMB10,000 to 100,000, suspend cooperation for 1-3 years or terminate the cooperation depending on the seriousness of the violation and the consequences thus brought about, and any loss thus incurred to Party A shall be borne by Party B\",\n          \"Application Provider may not use Payment-Eligible User Data to solicit User traffic to www.e-centives.com or any other co-branded version of www.e-centives.com with the intent of driving such Users away from using the Co-Branded Application.\",\n          \"6.13 Acquisition Proposals.  <omitted>  provided, that, <omitted> in the event TCF receives an <omitted> TCF Acquisition Proposal, it may, and may permit its Subsidiaries and its and its Subsidiaries\\u2019 Representatives to, furnish or cause to be furnished nonpublic information or data and participate in such negotiations or discussions to the extent that its Board of Directors concludes in good faith <omitted> that failure to take such actions would be more likely than not to result in a violation of its fiduciary duties under applicable law; (Page 70)\"\n        ],\n        \"semantic_type\": \"\",\n        \"description\": \"\"\n      }\n    },\n    {\n      \"column\": \"label\",\n      \"properties\": {\n        \"dtype\": \"number\",\n        \"std\": 46,\n        \"min\": 0,\n        \"max\": 160,\n        \"num_unique_values\": 161,\n        \"samples\": [\n          105,\n          108,\n          142\n        ],\n        \"semantic_type\": \"\",\n        \"description\": \"\"\n      }\n    }\n  ]\n}",
       "type": "dataframe",
       "variable_name": "sample_data"
      },
      "text/html": [
       "\n",
       "  <div id=\"df-11a01427-02c2-4327-880b-c8ef8fab2845\" class=\"colab-df-container\">\n",
       "    <div>\n",
       "<style scoped>\n",
       "    .dataframe tbody tr th:only-of-type {\n",
       "        vertical-align: middle;\n",
       "    }\n",
       "\n",
       "    .dataframe tbody tr th {\n",
       "        vertical-align: top;\n",
       "    }\n",
       "\n",
       "    .dataframe thead th {\n",
       "        text-align: right;\n",
       "    }\n",
       "</style>\n",
       "<table border=\"1\" class=\"dataframe\">\n",
       "  <thead>\n",
       "    <tr style=\"text-align: right;\">\n",
       "      <th></th>\n",
       "      <th>index</th>\n",
       "      <th>raw_dataset_id</th>\n",
       "      <th>answer</th>\n",
       "      <th>inputs</th>\n",
       "      <th>prompt_template</th>\n",
       "      <th>prompt</th>\n",
       "      <th>task</th>\n",
       "      <th>question</th>\n",
       "      <th>label</th>\n",
       "    </tr>\n",
       "  </thead>\n",
       "  <tbody>\n",
       "    <tr>\n",
       "      <th>0</th>\n",
       "      <td>0</td>\n",
       "      <td>51</td>\n",
       "      <td>suggestive</td>\n",
       "      <td>{'index': '51', 'text': 'The mark \"Equine Tech...</td>\n",
       "      <td>A mark is generic if it is the common name for...</td>\n",
       "      <td>A mark is generic if it is the common name for...</td>\n",
       "      <td>abercrombie</td>\n",
       "      <td>The mark \"Equine Technologies\" for horse hoof ...</td>\n",
       "      <td>0</td>\n",
       "    </tr>\n",
       "    <tr>\n",
       "      <th>1</th>\n",
       "      <td>1</td>\n",
       "      <td>92</td>\n",
       "      <td>fanciful</td>\n",
       "      <td>{'index': '92', 'text': 'The mark \"Lanbe\" for ...</td>\n",
       "      <td>A mark is generic if it is the common name for...</td>\n",
       "      <td>A mark is generic if it is the common name for...</td>\n",
       "      <td>abercrombie</td>\n",
       "      <td>The mark \"Lanbe\" for custom wallets.</td>\n",
       "      <td>0</td>\n",
       "    </tr>\n",
       "    <tr>\n",
       "      <th>2</th>\n",
       "      <td>2</td>\n",
       "      <td>14</td>\n",
       "      <td>generic</td>\n",
       "      <td>{'index': '14', 'text': 'The mark \"Cutlery\" fo...</td>\n",
       "      <td>A mark is generic if it is the common name for...</td>\n",
       "      <td>A mark is generic if it is the common name for...</td>\n",
       "      <td>abercrombie</td>\n",
       "      <td>The mark \"Cutlery\" for eating utencils.</td>\n",
       "      <td>0</td>\n",
       "    </tr>\n",
       "    <tr>\n",
       "      <th>3</th>\n",
       "      <td>3</td>\n",
       "      <td>71</td>\n",
       "      <td>arbitrary</td>\n",
       "      <td>{'index': '71', 'text': 'The mark \"Shark\" for ...</td>\n",
       "      <td>A mark is generic if it is the common name for...</td>\n",
       "      <td>A mark is generic if it is the common name for...</td>\n",
       "      <td>abercrombie</td>\n",
       "      <td>The mark \"Shark\" for a custom t-shirt maker.</td>\n",
       "      <td>0</td>\n",
       "    </tr>\n",
       "    <tr>\n",
       "      <th>4</th>\n",
       "      <td>4</td>\n",
       "      <td>60</td>\n",
       "      <td>arbitrary</td>\n",
       "      <td>{'index': '60', 'text': 'The mark \"Sun\" for co...</td>\n",
       "      <td>A mark is generic if it is the common name for...</td>\n",
       "      <td>A mark is generic if it is the common name for...</td>\n",
       "      <td>abercrombie</td>\n",
       "      <td>The mark \"Sun\" for computers.</td>\n",
       "      <td>0</td>\n",
       "    </tr>\n",
       "  </tbody>\n",
       "</table>\n",
       "</div>\n",
       "    <div class=\"colab-df-buttons\">\n",
       "\n",
       "  <div class=\"colab-df-container\">\n",
       "    <button class=\"colab-df-convert\" onclick=\"convertToInteractive('df-11a01427-02c2-4327-880b-c8ef8fab2845')\"\n",
       "            title=\"Convert this dataframe to an interactive table.\"\n",
       "            style=\"display:none;\">\n",
       "\n",
       "  <svg xmlns=\"http://www.w3.org/2000/svg\" height=\"24px\" viewBox=\"0 -960 960 960\">\n",
       "    <path d=\"M120-120v-720h720v720H120Zm60-500h600v-160H180v160Zm220 220h160v-160H400v160Zm0 220h160v-160H400v160ZM180-400h160v-160H180v160Zm440 0h160v-160H620v160ZM180-180h160v-160H180v160Zm440 0h160v-160H620v160Z\"/>\n",
       "  </svg>\n",
       "    </button>\n",
       "\n",
       "  <style>\n",
       "    .colab-df-container {\n",
       "      display:flex;\n",
       "      gap: 12px;\n",
       "    }\n",
       "\n",
       "    .colab-df-convert {\n",
       "      background-color: #E8F0FE;\n",
       "      border: none;\n",
       "      border-radius: 50%;\n",
       "      cursor: pointer;\n",
       "      display: none;\n",
       "      fill: #1967D2;\n",
       "      height: 32px;\n",
       "      padding: 0 0 0 0;\n",
       "      width: 32px;\n",
       "    }\n",
       "\n",
       "    .colab-df-convert:hover {\n",
       "      background-color: #E2EBFA;\n",
       "      box-shadow: 0px 1px 2px rgba(60, 64, 67, 0.3), 0px 1px 3px 1px rgba(60, 64, 67, 0.15);\n",
       "      fill: #174EA6;\n",
       "    }\n",
       "\n",
       "    .colab-df-buttons div {\n",
       "      margin-bottom: 4px;\n",
       "    }\n",
       "\n",
       "    [theme=dark] .colab-df-convert {\n",
       "      background-color: #3B4455;\n",
       "      fill: #D2E3FC;\n",
       "    }\n",
       "\n",
       "    [theme=dark] .colab-df-convert:hover {\n",
       "      background-color: #434B5C;\n",
       "      box-shadow: 0px 1px 3px 1px rgba(0, 0, 0, 0.15);\n",
       "      filter: drop-shadow(0px 1px 2px rgba(0, 0, 0, 0.3));\n",
       "      fill: #FFFFFF;\n",
       "    }\n",
       "  </style>\n",
       "\n",
       "    <script>\n",
       "      const buttonEl =\n",
       "        document.querySelector('#df-11a01427-02c2-4327-880b-c8ef8fab2845 button.colab-df-convert');\n",
       "      buttonEl.style.display =\n",
       "        google.colab.kernel.accessAllowed ? 'block' : 'none';\n",
       "\n",
       "      async function convertToInteractive(key) {\n",
       "        const element = document.querySelector('#df-11a01427-02c2-4327-880b-c8ef8fab2845');\n",
       "        const dataTable =\n",
       "          await google.colab.kernel.invokeFunction('convertToInteractive',\n",
       "                                                    [key], {});\n",
       "        if (!dataTable) return;\n",
       "\n",
       "        const docLinkHtml = 'Like what you see? Visit the ' +\n",
       "          '<a target=\"_blank\" href=https://colab.research.google.com/notebooks/data_table.ipynb>data table notebook</a>'\n",
       "          + ' to learn more about interactive tables.';\n",
       "        element.innerHTML = '';\n",
       "        dataTable['output_type'] = 'display_data';\n",
       "        await google.colab.output.renderOutput(dataTable, element);\n",
       "        const docLink = document.createElement('div');\n",
       "        docLink.innerHTML = docLinkHtml;\n",
       "        element.appendChild(docLink);\n",
       "      }\n",
       "    </script>\n",
       "  </div>\n",
       "\n",
       "\n",
       "<div id=\"df-0a4ad60b-e232-4eea-a96f-6b75bf7396cd\">\n",
       "  <button class=\"colab-df-quickchart\" onclick=\"quickchart('df-0a4ad60b-e232-4eea-a96f-6b75bf7396cd')\"\n",
       "            title=\"Suggest charts\"\n",
       "            style=\"display:none;\">\n",
       "\n",
       "<svg xmlns=\"http://www.w3.org/2000/svg\" height=\"24px\"viewBox=\"0 0 24 24\"\n",
       "     width=\"24px\">\n",
       "    <g>\n",
       "        <path d=\"M19 3H5c-1.1 0-2 .9-2 2v14c0 1.1.9 2 2 2h14c1.1 0 2-.9 2-2V5c0-1.1-.9-2-2-2zM9 17H7v-7h2v7zm4 0h-2V7h2v10zm4 0h-2v-4h2v4z\"/>\n",
       "    </g>\n",
       "</svg>\n",
       "  </button>\n",
       "\n",
       "<style>\n",
       "  .colab-df-quickchart {\n",
       "      --bg-color: #E8F0FE;\n",
       "      --fill-color: #1967D2;\n",
       "      --hover-bg-color: #E2EBFA;\n",
       "      --hover-fill-color: #174EA6;\n",
       "      --disabled-fill-color: #AAA;\n",
       "      --disabled-bg-color: #DDD;\n",
       "  }\n",
       "\n",
       "  [theme=dark] .colab-df-quickchart {\n",
       "      --bg-color: #3B4455;\n",
       "      --fill-color: #D2E3FC;\n",
       "      --hover-bg-color: #434B5C;\n",
       "      --hover-fill-color: #FFFFFF;\n",
       "      --disabled-bg-color: #3B4455;\n",
       "      --disabled-fill-color: #666;\n",
       "  }\n",
       "\n",
       "  .colab-df-quickchart {\n",
       "    background-color: var(--bg-color);\n",
       "    border: none;\n",
       "    border-radius: 50%;\n",
       "    cursor: pointer;\n",
       "    display: none;\n",
       "    fill: var(--fill-color);\n",
       "    height: 32px;\n",
       "    padding: 0;\n",
       "    width: 32px;\n",
       "  }\n",
       "\n",
       "  .colab-df-quickchart:hover {\n",
       "    background-color: var(--hover-bg-color);\n",
       "    box-shadow: 0 1px 2px rgba(60, 64, 67, 0.3), 0 1px 3px 1px rgba(60, 64, 67, 0.15);\n",
       "    fill: var(--button-hover-fill-color);\n",
       "  }\n",
       "\n",
       "  .colab-df-quickchart-complete:disabled,\n",
       "  .colab-df-quickchart-complete:disabled:hover {\n",
       "    background-color: var(--disabled-bg-color);\n",
       "    fill: var(--disabled-fill-color);\n",
       "    box-shadow: none;\n",
       "  }\n",
       "\n",
       "  .colab-df-spinner {\n",
       "    border: 2px solid var(--fill-color);\n",
       "    border-color: transparent;\n",
       "    border-bottom-color: var(--fill-color);\n",
       "    animation:\n",
       "      spin 1s steps(1) infinite;\n",
       "  }\n",
       "\n",
       "  @keyframes spin {\n",
       "    0% {\n",
       "      border-color: transparent;\n",
       "      border-bottom-color: var(--fill-color);\n",
       "      border-left-color: var(--fill-color);\n",
       "    }\n",
       "    20% {\n",
       "      border-color: transparent;\n",
       "      border-left-color: var(--fill-color);\n",
       "      border-top-color: var(--fill-color);\n",
       "    }\n",
       "    30% {\n",
       "      border-color: transparent;\n",
       "      border-left-color: var(--fill-color);\n",
       "      border-top-color: var(--fill-color);\n",
       "      border-right-color: var(--fill-color);\n",
       "    }\n",
       "    40% {\n",
       "      border-color: transparent;\n",
       "      border-right-color: var(--fill-color);\n",
       "      border-top-color: var(--fill-color);\n",
       "    }\n",
       "    60% {\n",
       "      border-color: transparent;\n",
       "      border-right-color: var(--fill-color);\n",
       "    }\n",
       "    80% {\n",
       "      border-color: transparent;\n",
       "      border-right-color: var(--fill-color);\n",
       "      border-bottom-color: var(--fill-color);\n",
       "    }\n",
       "    90% {\n",
       "      border-color: transparent;\n",
       "      border-bottom-color: var(--fill-color);\n",
       "    }\n",
       "  }\n",
       "</style>\n",
       "\n",
       "  <script>\n",
       "    async function quickchart(key) {\n",
       "      const quickchartButtonEl =\n",
       "        document.querySelector('#' + key + ' button');\n",
       "      quickchartButtonEl.disabled = true;  // To prevent multiple clicks.\n",
       "      quickchartButtonEl.classList.add('colab-df-spinner');\n",
       "      try {\n",
       "        const charts = await google.colab.kernel.invokeFunction(\n",
       "            'suggestCharts', [key], {});\n",
       "      } catch (error) {\n",
       "        console.error('Error during call to suggestCharts:', error);\n",
       "      }\n",
       "      quickchartButtonEl.classList.remove('colab-df-spinner');\n",
       "      quickchartButtonEl.classList.add('colab-df-quickchart-complete');\n",
       "    }\n",
       "    (() => {\n",
       "      let quickchartButtonEl =\n",
       "        document.querySelector('#df-0a4ad60b-e232-4eea-a96f-6b75bf7396cd button');\n",
       "      quickchartButtonEl.style.display =\n",
       "        google.colab.kernel.accessAllowed ? 'block' : 'none';\n",
       "    })();\n",
       "  </script>\n",
       "</div>\n",
       "\n",
       "    </div>\n",
       "  </div>\n"
      ],
      "text/plain": [
       "   index  raw_dataset_id      answer  \\\n",
       "0      0              51  suggestive   \n",
       "1      1              92    fanciful   \n",
       "2      2              14     generic   \n",
       "3      3              71   arbitrary   \n",
       "4      4              60   arbitrary   \n",
       "\n",
       "                                              inputs  \\\n",
       "0  {'index': '51', 'text': 'The mark \"Equine Tech...   \n",
       "1  {'index': '92', 'text': 'The mark \"Lanbe\" for ...   \n",
       "2  {'index': '14', 'text': 'The mark \"Cutlery\" fo...   \n",
       "3  {'index': '71', 'text': 'The mark \"Shark\" for ...   \n",
       "4  {'index': '60', 'text': 'The mark \"Sun\" for co...   \n",
       "\n",
       "                                     prompt_template  \\\n",
       "0  A mark is generic if it is the common name for...   \n",
       "1  A mark is generic if it is the common name for...   \n",
       "2  A mark is generic if it is the common name for...   \n",
       "3  A mark is generic if it is the common name for...   \n",
       "4  A mark is generic if it is the common name for...   \n",
       "\n",
       "                                              prompt         task  \\\n",
       "0  A mark is generic if it is the common name for...  abercrombie   \n",
       "1  A mark is generic if it is the common name for...  abercrombie   \n",
       "2  A mark is generic if it is the common name for...  abercrombie   \n",
       "3  A mark is generic if it is the common name for...  abercrombie   \n",
       "4  A mark is generic if it is the common name for...  abercrombie   \n",
       "\n",
       "                                            question  label  \n",
       "0  The mark \"Equine Technologies\" for horse hoof ...      0  \n",
       "1               The mark \"Lanbe\" for custom wallets.      0  \n",
       "2            The mark \"Cutlery\" for eating utencils.      0  \n",
       "3       The mark \"Shark\" for a custom t-shirt maker.      0  \n",
       "4                      The mark \"Sun\" for computers.      0  "
      ]
     },
     "execution_count": 3,
     "metadata": {},
     "output_type": "execute_result"
    }
   ],
   "source": [
    "from sklearn import preprocessing\n",
    "le = preprocessing.LabelEncoder()\n",
    "\n",
    "# Fit the encoder to the data\n",
    "le.fit(sample_data[\"task\"])\n",
    "\n",
    "task_classes = le.classes_\n",
    "# Transform the data\n",
    "sample_data[\"label\"] = le.transform(sample_data[\"task\"])\n",
    "sample_data.head()"
   ]
  },
  {
   "cell_type": "code",
   "execution_count": 19,
   "metadata": {
    "colab": {
     "base_uri": "https://localhost:8080/"
    },
    "id": "pLApCOORQ_Rl",
    "outputId": "2070146d-596b-423b-ad33-78b0431482ce"
   },
   "outputs": [
    {
     "name": "stdout",
     "output_type": "stream",
     "text": [
      "Shape: (7821, 23553) (1956, 23553)\n"
     ]
    }
   ],
   "source": [
    "import pandas as pd\n",
    "from sklearn.ensemble import GradientBoostingClassifier\n",
    "from sklearn.feature_extraction.text import TfidfVectorizer\n",
    "from sklearn.preprocessing import LabelEncoder\n",
    "from sklearn.model_selection import train_test_split\n",
    "\n",
    "# Load the data\n",
    "data = sample_data.copy()\n",
    "\n",
    "# Separate the features and labels\n",
    "X = data[['prompt', 'question']]\n",
    "y = data['label']\n",
    "\n",
    "# Vectorize the prompt and question text\n",
    "vectorizer = TfidfVectorizer()\n",
    "X = vectorizer.fit_transform(X['prompt'])\n",
    "\n",
    "# Split the data into training and testing sets\n",
    "X_train, X_test, y_train, y_test = train_test_split(X, y, test_size=0.2, random_state=42)\n",
    "\n",
    "print(f\"Shape: {X_train.shape} {X_test.shape}\")"
   ]
  },
  {
   "cell_type": "code",
   "execution_count": null,
   "metadata": {
    "colab": {
     "base_uri": "https://localhost:8080/"
    },
    "id": "VBsLc76baSJb",
    "outputId": "ee35eef4-e997-4dcb-f313-d71beff600da"
   },
   "outputs": [
    {
     "name": "stdout",
     "output_type": "stream",
     "text": [
      "Score on train 0.8569236670502494\n"
     ]
    }
   ],
   "source": [
    "# Train the gradient boosting classifier\n",
    "model_1 = GradientBoostingClassifier()\n",
    "model_1.fit(X_train, y_train)\n",
    "\n",
    "# Make predictions on new data\n",
    "new_y = model_1.predict(X_test)\n",
    "\n",
    "# Convert the predictions back to original labels\n",
    "new_y = le.inverse_transform(y_test)\n",
    "\n",
    "print(f\"Score on train\", model_1.score(X_train, y_train))\n",
    "print(f\"Score on test data\", model_1.score(X_test, y_test))"
   ]
  },
  {
   "cell_type": "markdown",
   "metadata": {
    "id": "Qa7Sp4eOf9y-"
   },
   "source": [
    "### Bert Text Classification on Tasks"
   ]
  },
  {
   "cell_type": "code",
   "execution_count": 9,
   "metadata": {
    "colab": {
     "base_uri": "https://localhost:8080/"
    },
    "id": "1fA7uXbOgbgU",
    "outputId": "dca7d9fc-4a7c-4c4e-8a00-2db251e2f2cd"
   },
   "outputs": [
    {
     "name": "stdout",
     "output_type": "stream",
     "text": [
      "\u001b[2K     \u001b[90m━━━━━━━━━━━━━━━━━━━━━━━━━━━━━━━━━━━━━━━━\u001b[0m \u001b[32m536.7/536.7 kB\u001b[0m \u001b[31m2.9 MB/s\u001b[0m eta \u001b[36m0:00:00\u001b[0m\n",
      "\u001b[2K     \u001b[90m━━━━━━━━━━━━━━━━━━━━━━━━━━━━━━━━━━━━━━━━\u001b[0m \u001b[32m84.1/84.1 kB\u001b[0m \u001b[31m7.0 MB/s\u001b[0m eta \u001b[36m0:00:00\u001b[0m\n",
      "\u001b[2K     \u001b[90m━━━━━━━━━━━━━━━━━━━━━━━━━━━━━━━━━━━━━━━━\u001b[0m \u001b[32m38.3/38.3 MB\u001b[0m \u001b[31m12.6 MB/s\u001b[0m eta \u001b[36m0:00:00\u001b[0m\n",
      "\u001b[2K     \u001b[90m━━━━━━━━━━━━━━━━━━━━━━━━━━━━━━━━━━━━━━━━\u001b[0m \u001b[32m116.3/116.3 kB\u001b[0m \u001b[31m6.9 MB/s\u001b[0m eta \u001b[36m0:00:00\u001b[0m\n",
      "\u001b[2K     \u001b[90m━━━━━━━━━━━━━━━━━━━━━━━━━━━━━━━━━━━━━━━━\u001b[0m \u001b[32m134.8/134.8 kB\u001b[0m \u001b[31m13.6 MB/s\u001b[0m eta \u001b[36m0:00:00\u001b[0m\n",
      "\u001b[?25h\u001b[31mERROR: pip's dependency resolver does not currently take into account all the packages that are installed. This behaviour is the source of the following dependency conflicts.\n",
      "ibis-framework 7.1.0 requires pyarrow<15,>=2, but you have pyarrow 15.0.0 which is incompatible.\u001b[0m\u001b[31m\n",
      "\u001b[0m"
     ]
    }
   ],
   "source": [
    "!pip install transformers datasets evaluate --quiet"
   ]
  },
  {
   "cell_type": "code",
   "execution_count": 15,
   "metadata": {
    "colab": {
     "base_uri": "https://localhost:8080/"
    },
    "id": "Bdw5mQPTpR9A",
    "outputId": "f3f7ba0e-ffbf-4513-d63b-29bf607ca8da"
   },
   "outputs": [
    {
     "name": "stdout",
     "output_type": "stream",
     "text": [
      "\u001b[2K     \u001b[90m━━━━━━━━━━━━━━━━━━━━━━━━━━━━━━━━━━━━━━━━\u001b[0m \u001b[32m8.4/8.4 MB\u001b[0m \u001b[31m24.2 MB/s\u001b[0m eta \u001b[36m0:00:00\u001b[0m\n",
      "\u001b[2K     \u001b[90m━━━━━━━━━━━━━━━━━━━━━━━━━━━━━━━━━━━━━━━━\u001b[0m \u001b[32m280.0/280.0 kB\u001b[0m \u001b[31m34.4 MB/s\u001b[0m eta \u001b[36m0:00:00\u001b[0m\n",
      "\u001b[?25h"
     ]
    }
   ],
   "source": [
    "## Sometimes in colab we get an error regarding some version of Pyarrow being incompatible so I run this cell again and that somehow solves the problem or restarting the notebook again\n",
    "!pip install -U transformers[torch] --quiet"
   ]
  },
  {
   "cell_type": "code",
   "execution_count": 5,
   "metadata": {
    "colab": {
     "base_uri": "https://localhost:8080/"
    },
    "id": "zCdW0vNTgI_H",
    "outputId": "718b9e4a-6c3e-4194-abd0-aec66824be59"
   },
   "outputs": [
    {
     "data": {
      "text/plain": [
       "DatasetDict({\n",
       "    train: Dataset({\n",
       "        features: ['index', 'raw_dataset_id', 'answer', 'inputs', 'prompt_template', 'prompt', 'task', 'question', 'label', '__index_level_0__'],\n",
       "        num_rows: 7821\n",
       "    })\n",
       "    test: Dataset({\n",
       "        features: ['index', 'raw_dataset_id', 'answer', 'inputs', 'prompt_template', 'prompt', 'task', 'question', 'label', '__index_level_0__'],\n",
       "        num_rows: 1956\n",
       "    })\n",
       "})"
      ]
     },
     "execution_count": 5,
     "metadata": {},
     "output_type": "execute_result"
    }
   ],
   "source": [
    "from datasets import load_dataset, Dataset\n",
    "\n",
    "dataset = Dataset.from_pandas(sample_data)\n",
    "dataset = dataset.train_test_split(test_size=0.2)\n",
    "dataset"
   ]
  },
  {
   "cell_type": "code",
   "execution_count": 6,
   "metadata": {
    "colab": {
     "base_uri": "https://localhost:8080/"
    },
    "id": "pJ4YbYq6drHw",
    "outputId": "b879cbec-c315-46cd-e665-960c0aa04579"
   },
   "outputs": [
    {
     "name": "stderr",
     "output_type": "stream",
     "text": [
      "/usr/local/lib/python3.10/dist-packages/huggingface_hub/utils/_token.py:88: UserWarning: \n",
      "The secret `HF_TOKEN` does not exist in your Colab secrets.\n",
      "To authenticate with the Hugging Face Hub, create a token in your settings tab (https://huggingface.co/settings/tokens), set it as secret in your Google Colab and restart your session.\n",
      "You will be able to reuse this secret in all of your notebooks.\n",
      "Please note that authentication is recommended but still optional to access public models or datasets.\n",
      "  warnings.warn(\n"
     ]
    }
   ],
   "source": [
    "from transformers import AutoTokenizer\n",
    "\n",
    "tokenizer = AutoTokenizer.from_pretrained(\"distilbert-base-uncased\")"
   ]
  },
  {
   "cell_type": "code",
   "execution_count": 7,
   "metadata": {
    "colab": {
     "base_uri": "https://localhost:8080/",
     "height": 301,
     "referenced_widgets": [
      "efecb141c20c435baf5787d2bf2b57b6",
      "91947b5cc3214fa78d9171e61f45fd4d",
      "575fa424b422441f85b56dbe8426d3bf",
      "2f472496d3d6413d8b9ba85634056629",
      "05bf14b77d3046f69a39f30c3f55b5c6",
      "cd7e49e5ca54468fa54107f518e8a9a6",
      "87b70bcb33e2474eaf047be722e304dd",
      "40955c2a7ecf4fb3990b641d94232bad",
      "2f0e588ec34b4e3cb579a7273971e528",
      "d1b657aeac234aa6855bb2ad7b848b53",
      "50eed85cb78e4e95b8583a8ba43d9b74",
      "40f97799ed4343498675c63228fa815f",
      "fd21b3a05d7c40bc86122572be409ba9",
      "dc764e9161a84c08b24f53f4608d9a87",
      "cb1d336a51e842a9ad3587091e875704",
      "821ddd0629b34f80aaa88803c527bfa2",
      "ea21f858e8154c2d98b0bfb8c29b60f4",
      "52bc175bdc334734b21e334db5f8c6f9",
      "a99af46268bc4d9fb23deb57666943ec",
      "24701a58424d43f7b4a2460b26a57529",
      "a9db6c40509846e4b1ee9d83454b3cf0",
      "03f10748b1f04e249e7cf686b9fc7586"
     ]
    },
    "id": "ejKpeZz2gCGX",
    "outputId": "dff7382f-96fe-479f-f73a-0ac8b55eb3ab"
   },
   "outputs": [
    {
     "data": {
      "application/vnd.jupyter.widget-view+json": {
       "model_id": "efecb141c20c435baf5787d2bf2b57b6",
       "version_major": 2,
       "version_minor": 0
      },
      "text/plain": [
       "Map:   0%|          | 0/7821 [00:00<?, ? examples/s]"
      ]
     },
     "metadata": {},
     "output_type": "display_data"
    },
    {
     "data": {
      "application/vnd.jupyter.widget-view+json": {
       "model_id": "40f97799ed4343498675c63228fa815f",
       "version_major": 2,
       "version_minor": 0
      },
      "text/plain": [
       "Map:   0%|          | 0/1956 [00:00<?, ? examples/s]"
      ]
     },
     "metadata": {},
     "output_type": "display_data"
    },
    {
     "data": {
      "text/plain": [
       "DatasetDict({\n",
       "    train: Dataset({\n",
       "        features: ['index', 'raw_dataset_id', 'answer', 'inputs', 'prompt_template', 'prompt', 'task', 'question', 'label', '__index_level_0__', 'input_ids', 'attention_mask'],\n",
       "        num_rows: 7821\n",
       "    })\n",
       "    test: Dataset({\n",
       "        features: ['index', 'raw_dataset_id', 'answer', 'inputs', 'prompt_template', 'prompt', 'task', 'question', 'label', '__index_level_0__', 'input_ids', 'attention_mask'],\n",
       "        num_rows: 1956\n",
       "    })\n",
       "})"
      ]
     },
     "execution_count": 7,
     "metadata": {},
     "output_type": "execute_result"
    }
   ],
   "source": [
    "def preprocess_function(examples):\n",
    "    return tokenizer(examples[\"prompt\"], truncation=True)\n",
    "\n",
    "tokenized_data = dataset.map(preprocess_function, batched=True)\n",
    "tokenized_data"
   ]
  },
  {
   "cell_type": "code",
   "execution_count": 8,
   "metadata": {
    "id": "jTgCix56kh8p"
   },
   "outputs": [],
   "source": [
    "from transformers import DataCollatorWithPadding\n",
    "\n",
    "data_collator = DataCollatorWithPadding(tokenizer=tokenizer)"
   ]
  },
  {
   "cell_type": "code",
   "execution_count": 9,
   "metadata": {
    "id": "F18QGo1gkkY-"
   },
   "outputs": [],
   "source": [
    "import evaluate\n",
    "\n",
    "accuracy = evaluate.load(\"accuracy\")"
   ]
  },
  {
   "cell_type": "code",
   "execution_count": 10,
   "metadata": {
    "id": "G5Ji6xKlkmjF"
   },
   "outputs": [],
   "source": [
    "import numpy as np\n",
    "\n",
    "\n",
    "def compute_metrics(eval_pred):\n",
    "    predictions, labels = eval_pred\n",
    "    predictions = np.argmax(predictions, axis=1)\n",
    "    return accuracy.compute(predictions=predictions, references=labels)"
   ]
  },
  {
   "cell_type": "code",
   "execution_count": 11,
   "metadata": {
    "id": "zPLIzN0dko1V"
   },
   "outputs": [],
   "source": [
    "label2id = dict(zip(le.classes_, range(len(le.classes_))))\n",
    "id2label = dict(zip(range(len(le.classes_)), le.classes_))"
   ]
  },
  {
   "cell_type": "code",
   "execution_count": 12,
   "metadata": {
    "colab": {
     "base_uri": "https://localhost:8080/"
    },
    "id": "Zc3F8BMalLQg",
    "outputId": "7d5ff634-3d07-4cb8-bad6-f708ef4d816b"
   },
   "outputs": [
    {
     "name": "stderr",
     "output_type": "stream",
     "text": [
      "Some weights of DistilBertForSequenceClassification were not initialized from the model checkpoint at distilbert-base-uncased and are newly initialized: ['classifier.bias', 'classifier.weight', 'pre_classifier.bias', 'pre_classifier.weight']\n",
      "You should probably TRAIN this model on a down-stream task to be able to use it for predictions and inference.\n"
     ]
    }
   ],
   "source": [
    "from transformers import AutoModelForSequenceClassification, TrainingArguments, Trainer\n",
    "\n",
    "model = AutoModelForSequenceClassification.from_pretrained(\n",
    "    \"distilbert-base-uncased\", num_labels=len(le.classes_), id2label=id2label, label2id=label2id\n",
    ")"
   ]
  },
  {
   "cell_type": "code",
   "execution_count": 13,
   "metadata": {
    "colab": {
     "base_uri": "https://localhost:8080/",
     "height": 175
    },
    "id": "opII0F0nlW92",
    "outputId": "1b7a29a4-c624-43bf-f7c7-426c46f72d60"
   },
   "outputs": [
    {
     "data": {
      "text/html": [
       "\n",
       "    <div>\n",
       "      \n",
       "      <progress value='978' max='978' style='width:300px; height:20px; vertical-align: middle;'></progress>\n",
       "      [978/978 13:48, Epoch 2/2]\n",
       "    </div>\n",
       "    <table border=\"1\" class=\"dataframe\">\n",
       "  <thead>\n",
       " <tr style=\"text-align: left;\">\n",
       "      <th>Epoch</th>\n",
       "      <th>Training Loss</th>\n",
       "      <th>Validation Loss</th>\n",
       "      <th>Accuracy</th>\n",
       "    </tr>\n",
       "  </thead>\n",
       "  <tbody>\n",
       "    <tr>\n",
       "      <td>1</td>\n",
       "      <td>No log</td>\n",
       "      <td>2.291829</td>\n",
       "      <td>0.910020</td>\n",
       "    </tr>\n",
       "    <tr>\n",
       "      <td>2</td>\n",
       "      <td>3.538900</td>\n",
       "      <td>1.640710</td>\n",
       "      <td>0.948875</td>\n",
       "    </tr>\n",
       "  </tbody>\n",
       "</table><p>"
      ],
      "text/plain": [
       "<IPython.core.display.HTML object>"
      ]
     },
     "metadata": {},
     "output_type": "display_data"
    },
    {
     "data": {
      "text/plain": [
       "TrainOutput(global_step=978, training_loss=2.7945069857170246, metrics={'train_runtime': 831.359, 'train_samples_per_second': 18.815, 'train_steps_per_second': 1.176, 'total_flos': 2077930443257856.0, 'train_loss': 2.7945069857170246, 'epoch': 2.0})"
      ]
     },
     "execution_count": 13,
     "metadata": {},
     "output_type": "execute_result"
    }
   ],
   "source": [
    "training_args = TrainingArguments(\n",
    "    output_dir=\"legalbench_task_classification\",\n",
    "    learning_rate=2e-5,\n",
    "    per_device_train_batch_size=16,\n",
    "    per_device_eval_batch_size=16,\n",
    "    num_train_epochs=2,\n",
    "    weight_decay=0.01,\n",
    "    evaluation_strategy=\"epoch\",\n",
    "    save_strategy=\"epoch\",\n",
    "    load_best_model_at_end=True\n",
    ")\n",
    "\n",
    "trainer = Trainer(\n",
    "    model=model,\n",
    "    args=training_args,\n",
    "    train_dataset=tokenized_data[\"train\"],\n",
    "    eval_dataset=tokenized_data[\"test\"],\n",
    "    tokenizer=tokenizer,\n",
    "    data_collator=data_collator,\n",
    "    compute_metrics=compute_metrics,\n",
    ")\n",
    "\n",
    "trainer.train()"
   ]
  },
  {
   "cell_type": "code",
   "execution_count": 14,
   "metadata": {
    "colab": {
     "base_uri": "https://localhost:8080/",
     "height": 147
    },
    "id": "SM2APsHpug-e",
    "outputId": "2dfcdc54-7265-4198-eef7-828dce16409a"
   },
   "outputs": [
    {
     "data": {
      "text/html": [
       "\n",
       "    <div>\n",
       "      \n",
       "      <progress value='123' max='123' style='width:300px; height:20px; vertical-align: middle;'></progress>\n",
       "      [123/123 00:33]\n",
       "    </div>\n",
       "    "
      ],
      "text/plain": [
       "<IPython.core.display.HTML object>"
      ]
     },
     "metadata": {},
     "output_type": "display_data"
    },
    {
     "data": {
      "text/plain": [
       "{'eval_loss': 1.6407099962234497,\n",
       " 'eval_accuracy': 0.9488752556237219,\n",
       " 'eval_runtime': 34.3517,\n",
       " 'eval_samples_per_second': 56.94,\n",
       " 'eval_steps_per_second': 3.581,\n",
       " 'epoch': 2.0}"
      ]
     },
     "execution_count": 14,
     "metadata": {},
     "output_type": "execute_result"
    }
   ],
   "source": [
    "trainer.evaluate(tokenized_data[\"test\"])"
   ]
  },
  {
   "cell_type": "code",
   "execution_count": 15,
   "metadata": {
    "colab": {
     "base_uri": "https://localhost:8080/",
     "height": 147
    },
    "id": "0spcvl0radoK",
    "outputId": "924ad229-ccf6-4f68-8d4b-d4ec23c37e83"
   },
   "outputs": [
    {
     "data": {
      "text/html": [
       "\n",
       "    <div>\n",
       "      \n",
       "      <progress value='612' max='123' style='width:300px; height:20px; vertical-align: middle;'></progress>\n",
       "      [123/123 02:51]\n",
       "    </div>\n",
       "    "
      ],
      "text/plain": [
       "<IPython.core.display.HTML object>"
      ]
     },
     "metadata": {},
     "output_type": "display_data"
    },
    {
     "data": {
      "text/plain": [
       "{'eval_loss': 1.6049046516418457,\n",
       " 'eval_accuracy': 0.9489835059455313,\n",
       " 'eval_runtime': 137.1509,\n",
       " 'eval_samples_per_second': 57.025,\n",
       " 'eval_steps_per_second': 3.565,\n",
       " 'epoch': 2.0}"
      ]
     },
     "execution_count": 15,
     "metadata": {},
     "output_type": "execute_result"
    }
   ],
   "source": [
    "trainer.evaluate(tokenized_data[\"train\"])"
   ]
  },
  {
   "cell_type": "code",
   "execution_count": null,
   "metadata": {
    "id": "dDlb3jYzmV0A"
   },
   "outputs": [],
   "source": [
    "from huggingface_hub import notebook_login\n",
    "\n",
    "notebook_login()"
   ]
  },
  {
   "cell_type": "code",
   "execution_count": null,
   "metadata": {
    "id": "u1noT2nbp1q_"
   },
   "outputs": [],
   "source": [
    "trainer.push_to_hub()"
   ]
  },
  {
   "cell_type": "markdown",
   "metadata": {
    "id": "2Db6elPx0rx4"
   },
   "source": [
    "### Inference"
   ]
  },
  {
   "cell_type": "code",
   "execution_count": 18,
   "metadata": {
    "colab": {
     "base_uri": "https://localhost:8080/"
    },
    "id": "NCu0TQknp5vj",
    "outputId": "d868868f-2473-428d-f762-ddd71722e927"
   },
   "outputs": [
    {
     "name": "stdout",
     "output_type": "stream",
     "text": [
      "Prompt: Instruction: Read the segment of a merger agreement and answer the multiple-choice question by choosing the option that best characterizes the agreement.\n",
      "Question: What is the liability standard for no-shop breach by Target Non-D&O Representatives?\n",
      "Option A: Reasonable standard\n",
      "Option B: Strict liability\n",
      "\n",
      "Merger Agreement: “Knowledge” means <omitted> (b) with respect to the Company, the actual knowledge of the individuals listed on Schedule A-I(b) (Page 75)\n",
      "Answer: B\n",
      "\n",
      "Merger Agreement: “knowledge” means <omitted> the actual knowledge of the individuals listed in Section 1.01(a) of the Company Disclosure Letter, (Page 13)\n",
      "Answer:\n",
      "\n",
      "\n",
      "Original task: maud_liability_standard_for_no-shop_breach_by_target_non-do_representatives\n",
      "Predicted class: maud_liability_standard_for_no-shop_breach_by_target_non-do_representatives\n"
     ]
    }
   ],
   "source": [
    "## Inference\n",
    "import torch\n",
    "import random\n",
    "from transformers import pipeline, AutoModelForSequenceClassification\n",
    "\n",
    "random_test_row = tokenized_data['test'][100]\n",
    "text = random_test_row['prompt']\n",
    "inputs = tokenizer(text, return_tensors=\"pt\")\n",
    "\n",
    "print(f\"Prompt: {text}\\n\\n\")\n",
    "print(f\"Original task: {random_test_row['task']}\")\n",
    "\n",
    "## Load model from huggingface\n",
    "model = AutoModelForSequenceClassification.from_pretrained(\"prithviraj-maurya/legalbench_task_classification\")\n",
    "with torch.no_grad():\n",
    "  logits = model(**inputs).logits\n",
    "\n",
    "predicted_class_id = logits.argmax().item()\n",
    "pred = model.config.id2label[predicted_class_id]\n",
    "\n",
    "print(f\"Predicted class: {pred}\")"
   ]
  },
  {
   "cell_type": "code",
   "execution_count": 24,
   "metadata": {
    "colab": {
     "base_uri": "https://localhost:8080/",
     "height": 49,
     "referenced_widgets": [
      "cc9ee476be0f4ab482492a4427a4b732",
      "426b6467d32049ba90fc18bc270f8c6b",
      "41ef42b5daa945ec98ef6b317eef9864",
      "59343861dfc342d4aebb0eb850c18c81",
      "6799454bb729444bacd3a57c1336e962",
      "cd56544bc7b24e06a0539f6c32ea2763",
      "f173b41dcf434b8ba633ad7ef7ec66ef",
      "747a0295de754c4aa16862ce7d74c913",
      "79bce81ddee0404d8920c162b877c226",
      "1e69287316284a02a676894262da5c25",
      "4f7c273731da4a8e88cfe37f3f739c32"
     ]
    },
    "id": "DFmLn3HsmLeL",
    "outputId": "66d23729-2343-4e04-f58b-67063c652e7c"
   },
   "outputs": [
    {
     "data": {
      "application/vnd.jupyter.widget-view+json": {
       "model_id": "cc9ee476be0f4ab482492a4427a4b732",
       "version_major": 2,
       "version_minor": 0
      },
      "text/plain": [
       "Map:   0%|          | 0/9777 [00:00<?, ? examples/s]"
      ]
     },
     "metadata": {},
     "output_type": "display_data"
    }
   ],
   "source": [
    "dataset_full = Dataset.from_pandas(sample_data)\n",
    "tokenized_data_full = dataset_full.map(preprocess_function, batched=True)"
   ]
  },
  {
   "cell_type": "code",
   "execution_count": null,
   "metadata": {
    "id": "4JfaBnk5mome"
   },
   "outputs": [],
   "source": [
    "predictions = trainer.predict(tokenized_data_full)"
   ]
  },
  {
   "cell_type": "code",
   "execution_count": null,
   "metadata": {
    "id": "3q0E97iFmzqX"
   },
   "outputs": [],
   "source": [
    "predictions"
   ]
  },
  {
   "cell_type": "markdown",
   "metadata": {
    "id": "Jqs6RPjWLRFP"
   },
   "source": [
    "### Conclusion:\n",
    "\n",
    "- The results of the experiments show that the BERT model outperforms the Gradient Boosting Classifier on the task of task classification. The BERT model achieves a test score of 92.3% while the Gradient Boosting Classifier only achieves a test score of 63.6%. This suggests that the BERT model is better able to capture the nuances of the text and determine the correct task.\n",
    "\n",
    "- One possible explanation for the difference in performance is that the BERT model is able to learn from a much larger dataset than the Gradient Boosting Classifier. The BERT model was trained on a dataset of over 3 million text samples, while the Gradient Boosting Classifier was only trained on a dataset of 1000 text samples. This larger dataset allows the BERT model to learn more generalizable patterns and to better understand the relationships between words and phrases.\n",
    "\n",
    "- Another possible explanation for the difference in performance is that the BERT model is able to use contextual information to determine the meaning of words. The Gradient Boosting Classifier, on the other hand, only uses the individual words in the text to make its predictions. This can lead to errors when the meaning of a word depends on the context in which it is used.\n",
    "\n",
    "- Overall, the results of the experiments suggest that the BERT model is a promising tool for task classification. The model is able to achieve high accuracy on a variety of tasks and is able to learn from a large dataset."
   ]
  }
 ],
 "metadata": {
  "accelerator": "GPU",
  "colab": {
   "gpuType": "T4",
   "provenance": []
  },
  "kernelspec": {
   "display_name": "Python 3 (ipykernel)",
   "language": "python",
   "name": "python3"
  },
  "language_info": {
   "codemirror_mode": {
    "name": "ipython",
    "version": 3
   },
   "file_extension": ".py",
   "mimetype": "text/x-python",
   "name": "python",
   "nbconvert_exporter": "python",
   "pygments_lexer": "ipython3",
   "version": "3.11.5"
  },
  "widgets": {
   "application/vnd.jupyter.widget-state+json": {
    "03f10748b1f04e249e7cf686b9fc7586": {
     "model_module": "@jupyter-widgets/controls",
     "model_module_version": "1.5.0",
     "model_name": "DescriptionStyleModel",
     "state": {
      "_model_module": "@jupyter-widgets/controls",
      "_model_module_version": "1.5.0",
      "_model_name": "DescriptionStyleModel",
      "_view_count": null,
      "_view_module": "@jupyter-widgets/base",
      "_view_module_version": "1.2.0",
      "_view_name": "StyleView",
      "description_width": ""
     }
    },
    "05bf14b77d3046f69a39f30c3f55b5c6": {
     "model_module": "@jupyter-widgets/base",
     "model_module_version": "1.2.0",
     "model_name": "LayoutModel",
     "state": {
      "_model_module": "@jupyter-widgets/base",
      "_model_module_version": "1.2.0",
      "_model_name": "LayoutModel",
      "_view_count": null,
      "_view_module": "@jupyter-widgets/base",
      "_view_module_version": "1.2.0",
      "_view_name": "LayoutView",
      "align_content": null,
      "align_items": null,
      "align_self": null,
      "border": null,
      "bottom": null,
      "display": null,
      "flex": null,
      "flex_flow": null,
      "grid_area": null,
      "grid_auto_columns": null,
      "grid_auto_flow": null,
      "grid_auto_rows": null,
      "grid_column": null,
      "grid_gap": null,
      "grid_row": null,
      "grid_template_areas": null,
      "grid_template_columns": null,
      "grid_template_rows": null,
      "height": null,
      "justify_content": null,
      "justify_items": null,
      "left": null,
      "margin": null,
      "max_height": null,
      "max_width": null,
      "min_height": null,
      "min_width": null,
      "object_fit": null,
      "object_position": null,
      "order": null,
      "overflow": null,
      "overflow_x": null,
      "overflow_y": null,
      "padding": null,
      "right": null,
      "top": null,
      "visibility": null,
      "width": null
     }
    },
    "1e69287316284a02a676894262da5c25": {
     "model_module": "@jupyter-widgets/base",
     "model_module_version": "1.2.0",
     "model_name": "LayoutModel",
     "state": {
      "_model_module": "@jupyter-widgets/base",
      "_model_module_version": "1.2.0",
      "_model_name": "LayoutModel",
      "_view_count": null,
      "_view_module": "@jupyter-widgets/base",
      "_view_module_version": "1.2.0",
      "_view_name": "LayoutView",
      "align_content": null,
      "align_items": null,
      "align_self": null,
      "border": null,
      "bottom": null,
      "display": null,
      "flex": null,
      "flex_flow": null,
      "grid_area": null,
      "grid_auto_columns": null,
      "grid_auto_flow": null,
      "grid_auto_rows": null,
      "grid_column": null,
      "grid_gap": null,
      "grid_row": null,
      "grid_template_areas": null,
      "grid_template_columns": null,
      "grid_template_rows": null,
      "height": null,
      "justify_content": null,
      "justify_items": null,
      "left": null,
      "margin": null,
      "max_height": null,
      "max_width": null,
      "min_height": null,
      "min_width": null,
      "object_fit": null,
      "object_position": null,
      "order": null,
      "overflow": null,
      "overflow_x": null,
      "overflow_y": null,
      "padding": null,
      "right": null,
      "top": null,
      "visibility": null,
      "width": null
     }
    },
    "24701a58424d43f7b4a2460b26a57529": {
     "model_module": "@jupyter-widgets/controls",
     "model_module_version": "1.5.0",
     "model_name": "ProgressStyleModel",
     "state": {
      "_model_module": "@jupyter-widgets/controls",
      "_model_module_version": "1.5.0",
      "_model_name": "ProgressStyleModel",
      "_view_count": null,
      "_view_module": "@jupyter-widgets/base",
      "_view_module_version": "1.2.0",
      "_view_name": "StyleView",
      "bar_color": null,
      "description_width": ""
     }
    },
    "2f0e588ec34b4e3cb579a7273971e528": {
     "model_module": "@jupyter-widgets/controls",
     "model_module_version": "1.5.0",
     "model_name": "ProgressStyleModel",
     "state": {
      "_model_module": "@jupyter-widgets/controls",
      "_model_module_version": "1.5.0",
      "_model_name": "ProgressStyleModel",
      "_view_count": null,
      "_view_module": "@jupyter-widgets/base",
      "_view_module_version": "1.2.0",
      "_view_name": "StyleView",
      "bar_color": null,
      "description_width": ""
     }
    },
    "2f472496d3d6413d8b9ba85634056629": {
     "model_module": "@jupyter-widgets/controls",
     "model_module_version": "1.5.0",
     "model_name": "HTMLModel",
     "state": {
      "_dom_classes": [],
      "_model_module": "@jupyter-widgets/controls",
      "_model_module_version": "1.5.0",
      "_model_name": "HTMLModel",
      "_view_count": null,
      "_view_module": "@jupyter-widgets/controls",
      "_view_module_version": "1.5.0",
      "_view_name": "HTMLView",
      "description": "",
      "description_tooltip": null,
      "layout": "IPY_MODEL_d1b657aeac234aa6855bb2ad7b848b53",
      "placeholder": "​",
      "style": "IPY_MODEL_50eed85cb78e4e95b8583a8ba43d9b74",
      "value": " 7821/7821 [00:32&lt;00:00, 282.02 examples/s]"
     }
    },
    "40955c2a7ecf4fb3990b641d94232bad": {
     "model_module": "@jupyter-widgets/base",
     "model_module_version": "1.2.0",
     "model_name": "LayoutModel",
     "state": {
      "_model_module": "@jupyter-widgets/base",
      "_model_module_version": "1.2.0",
      "_model_name": "LayoutModel",
      "_view_count": null,
      "_view_module": "@jupyter-widgets/base",
      "_view_module_version": "1.2.0",
      "_view_name": "LayoutView",
      "align_content": null,
      "align_items": null,
      "align_self": null,
      "border": null,
      "bottom": null,
      "display": null,
      "flex": null,
      "flex_flow": null,
      "grid_area": null,
      "grid_auto_columns": null,
      "grid_auto_flow": null,
      "grid_auto_rows": null,
      "grid_column": null,
      "grid_gap": null,
      "grid_row": null,
      "grid_template_areas": null,
      "grid_template_columns": null,
      "grid_template_rows": null,
      "height": null,
      "justify_content": null,
      "justify_items": null,
      "left": null,
      "margin": null,
      "max_height": null,
      "max_width": null,
      "min_height": null,
      "min_width": null,
      "object_fit": null,
      "object_position": null,
      "order": null,
      "overflow": null,
      "overflow_x": null,
      "overflow_y": null,
      "padding": null,
      "right": null,
      "top": null,
      "visibility": null,
      "width": null
     }
    },
    "40f97799ed4343498675c63228fa815f": {
     "model_module": "@jupyter-widgets/controls",
     "model_module_version": "1.5.0",
     "model_name": "HBoxModel",
     "state": {
      "_dom_classes": [],
      "_model_module": "@jupyter-widgets/controls",
      "_model_module_version": "1.5.0",
      "_model_name": "HBoxModel",
      "_view_count": null,
      "_view_module": "@jupyter-widgets/controls",
      "_view_module_version": "1.5.0",
      "_view_name": "HBoxView",
      "box_style": "",
      "children": [
       "IPY_MODEL_fd21b3a05d7c40bc86122572be409ba9",
       "IPY_MODEL_dc764e9161a84c08b24f53f4608d9a87",
       "IPY_MODEL_cb1d336a51e842a9ad3587091e875704"
      ],
      "layout": "IPY_MODEL_821ddd0629b34f80aaa88803c527bfa2"
     }
    },
    "41ef42b5daa945ec98ef6b317eef9864": {
     "model_module": "@jupyter-widgets/controls",
     "model_module_version": "1.5.0",
     "model_name": "FloatProgressModel",
     "state": {
      "_dom_classes": [],
      "_model_module": "@jupyter-widgets/controls",
      "_model_module_version": "1.5.0",
      "_model_name": "FloatProgressModel",
      "_view_count": null,
      "_view_module": "@jupyter-widgets/controls",
      "_view_module_version": "1.5.0",
      "_view_name": "ProgressView",
      "bar_style": "success",
      "description": "",
      "description_tooltip": null,
      "layout": "IPY_MODEL_747a0295de754c4aa16862ce7d74c913",
      "max": 9777,
      "min": 0,
      "orientation": "horizontal",
      "style": "IPY_MODEL_79bce81ddee0404d8920c162b877c226",
      "value": 9777
     }
    },
    "426b6467d32049ba90fc18bc270f8c6b": {
     "model_module": "@jupyter-widgets/controls",
     "model_module_version": "1.5.0",
     "model_name": "HTMLModel",
     "state": {
      "_dom_classes": [],
      "_model_module": "@jupyter-widgets/controls",
      "_model_module_version": "1.5.0",
      "_model_name": "HTMLModel",
      "_view_count": null,
      "_view_module": "@jupyter-widgets/controls",
      "_view_module_version": "1.5.0",
      "_view_name": "HTMLView",
      "description": "",
      "description_tooltip": null,
      "layout": "IPY_MODEL_cd56544bc7b24e06a0539f6c32ea2763",
      "placeholder": "​",
      "style": "IPY_MODEL_f173b41dcf434b8ba633ad7ef7ec66ef",
      "value": "Map: 100%"
     }
    },
    "4f7c273731da4a8e88cfe37f3f739c32": {
     "model_module": "@jupyter-widgets/controls",
     "model_module_version": "1.5.0",
     "model_name": "DescriptionStyleModel",
     "state": {
      "_model_module": "@jupyter-widgets/controls",
      "_model_module_version": "1.5.0",
      "_model_name": "DescriptionStyleModel",
      "_view_count": null,
      "_view_module": "@jupyter-widgets/base",
      "_view_module_version": "1.2.0",
      "_view_name": "StyleView",
      "description_width": ""
     }
    },
    "50eed85cb78e4e95b8583a8ba43d9b74": {
     "model_module": "@jupyter-widgets/controls",
     "model_module_version": "1.5.0",
     "model_name": "DescriptionStyleModel",
     "state": {
      "_model_module": "@jupyter-widgets/controls",
      "_model_module_version": "1.5.0",
      "_model_name": "DescriptionStyleModel",
      "_view_count": null,
      "_view_module": "@jupyter-widgets/base",
      "_view_module_version": "1.2.0",
      "_view_name": "StyleView",
      "description_width": ""
     }
    },
    "52bc175bdc334734b21e334db5f8c6f9": {
     "model_module": "@jupyter-widgets/controls",
     "model_module_version": "1.5.0",
     "model_name": "DescriptionStyleModel",
     "state": {
      "_model_module": "@jupyter-widgets/controls",
      "_model_module_version": "1.5.0",
      "_model_name": "DescriptionStyleModel",
      "_view_count": null,
      "_view_module": "@jupyter-widgets/base",
      "_view_module_version": "1.2.0",
      "_view_name": "StyleView",
      "description_width": ""
     }
    },
    "575fa424b422441f85b56dbe8426d3bf": {
     "model_module": "@jupyter-widgets/controls",
     "model_module_version": "1.5.0",
     "model_name": "FloatProgressModel",
     "state": {
      "_dom_classes": [],
      "_model_module": "@jupyter-widgets/controls",
      "_model_module_version": "1.5.0",
      "_model_name": "FloatProgressModel",
      "_view_count": null,
      "_view_module": "@jupyter-widgets/controls",
      "_view_module_version": "1.5.0",
      "_view_name": "ProgressView",
      "bar_style": "success",
      "description": "",
      "description_tooltip": null,
      "layout": "IPY_MODEL_40955c2a7ecf4fb3990b641d94232bad",
      "max": 7821,
      "min": 0,
      "orientation": "horizontal",
      "style": "IPY_MODEL_2f0e588ec34b4e3cb579a7273971e528",
      "value": 7821
     }
    },
    "59343861dfc342d4aebb0eb850c18c81": {
     "model_module": "@jupyter-widgets/controls",
     "model_module_version": "1.5.0",
     "model_name": "HTMLModel",
     "state": {
      "_dom_classes": [],
      "_model_module": "@jupyter-widgets/controls",
      "_model_module_version": "1.5.0",
      "_model_name": "HTMLModel",
      "_view_count": null,
      "_view_module": "@jupyter-widgets/controls",
      "_view_module_version": "1.5.0",
      "_view_name": "HTMLView",
      "description": "",
      "description_tooltip": null,
      "layout": "IPY_MODEL_1e69287316284a02a676894262da5c25",
      "placeholder": "​",
      "style": "IPY_MODEL_4f7c273731da4a8e88cfe37f3f739c32",
      "value": " 9777/9777 [00:44&lt;00:00, 209.29 examples/s]"
     }
    },
    "6799454bb729444bacd3a57c1336e962": {
     "model_module": "@jupyter-widgets/base",
     "model_module_version": "1.2.0",
     "model_name": "LayoutModel",
     "state": {
      "_model_module": "@jupyter-widgets/base",
      "_model_module_version": "1.2.0",
      "_model_name": "LayoutModel",
      "_view_count": null,
      "_view_module": "@jupyter-widgets/base",
      "_view_module_version": "1.2.0",
      "_view_name": "LayoutView",
      "align_content": null,
      "align_items": null,
      "align_self": null,
      "border": null,
      "bottom": null,
      "display": null,
      "flex": null,
      "flex_flow": null,
      "grid_area": null,
      "grid_auto_columns": null,
      "grid_auto_flow": null,
      "grid_auto_rows": null,
      "grid_column": null,
      "grid_gap": null,
      "grid_row": null,
      "grid_template_areas": null,
      "grid_template_columns": null,
      "grid_template_rows": null,
      "height": null,
      "justify_content": null,
      "justify_items": null,
      "left": null,
      "margin": null,
      "max_height": null,
      "max_width": null,
      "min_height": null,
      "min_width": null,
      "object_fit": null,
      "object_position": null,
      "order": null,
      "overflow": null,
      "overflow_x": null,
      "overflow_y": null,
      "padding": null,
      "right": null,
      "top": null,
      "visibility": null,
      "width": null
     }
    },
    "747a0295de754c4aa16862ce7d74c913": {
     "model_module": "@jupyter-widgets/base",
     "model_module_version": "1.2.0",
     "model_name": "LayoutModel",
     "state": {
      "_model_module": "@jupyter-widgets/base",
      "_model_module_version": "1.2.0",
      "_model_name": "LayoutModel",
      "_view_count": null,
      "_view_module": "@jupyter-widgets/base",
      "_view_module_version": "1.2.0",
      "_view_name": "LayoutView",
      "align_content": null,
      "align_items": null,
      "align_self": null,
      "border": null,
      "bottom": null,
      "display": null,
      "flex": null,
      "flex_flow": null,
      "grid_area": null,
      "grid_auto_columns": null,
      "grid_auto_flow": null,
      "grid_auto_rows": null,
      "grid_column": null,
      "grid_gap": null,
      "grid_row": null,
      "grid_template_areas": null,
      "grid_template_columns": null,
      "grid_template_rows": null,
      "height": null,
      "justify_content": null,
      "justify_items": null,
      "left": null,
      "margin": null,
      "max_height": null,
      "max_width": null,
      "min_height": null,
      "min_width": null,
      "object_fit": null,
      "object_position": null,
      "order": null,
      "overflow": null,
      "overflow_x": null,
      "overflow_y": null,
      "padding": null,
      "right": null,
      "top": null,
      "visibility": null,
      "width": null
     }
    },
    "79bce81ddee0404d8920c162b877c226": {
     "model_module": "@jupyter-widgets/controls",
     "model_module_version": "1.5.0",
     "model_name": "ProgressStyleModel",
     "state": {
      "_model_module": "@jupyter-widgets/controls",
      "_model_module_version": "1.5.0",
      "_model_name": "ProgressStyleModel",
      "_view_count": null,
      "_view_module": "@jupyter-widgets/base",
      "_view_module_version": "1.2.0",
      "_view_name": "StyleView",
      "bar_color": null,
      "description_width": ""
     }
    },
    "821ddd0629b34f80aaa88803c527bfa2": {
     "model_module": "@jupyter-widgets/base",
     "model_module_version": "1.2.0",
     "model_name": "LayoutModel",
     "state": {
      "_model_module": "@jupyter-widgets/base",
      "_model_module_version": "1.2.0",
      "_model_name": "LayoutModel",
      "_view_count": null,
      "_view_module": "@jupyter-widgets/base",
      "_view_module_version": "1.2.0",
      "_view_name": "LayoutView",
      "align_content": null,
      "align_items": null,
      "align_self": null,
      "border": null,
      "bottom": null,
      "display": null,
      "flex": null,
      "flex_flow": null,
      "grid_area": null,
      "grid_auto_columns": null,
      "grid_auto_flow": null,
      "grid_auto_rows": null,
      "grid_column": null,
      "grid_gap": null,
      "grid_row": null,
      "grid_template_areas": null,
      "grid_template_columns": null,
      "grid_template_rows": null,
      "height": null,
      "justify_content": null,
      "justify_items": null,
      "left": null,
      "margin": null,
      "max_height": null,
      "max_width": null,
      "min_height": null,
      "min_width": null,
      "object_fit": null,
      "object_position": null,
      "order": null,
      "overflow": null,
      "overflow_x": null,
      "overflow_y": null,
      "padding": null,
      "right": null,
      "top": null,
      "visibility": null,
      "width": null
     }
    },
    "87b70bcb33e2474eaf047be722e304dd": {
     "model_module": "@jupyter-widgets/controls",
     "model_module_version": "1.5.0",
     "model_name": "DescriptionStyleModel",
     "state": {
      "_model_module": "@jupyter-widgets/controls",
      "_model_module_version": "1.5.0",
      "_model_name": "DescriptionStyleModel",
      "_view_count": null,
      "_view_module": "@jupyter-widgets/base",
      "_view_module_version": "1.2.0",
      "_view_name": "StyleView",
      "description_width": ""
     }
    },
    "91947b5cc3214fa78d9171e61f45fd4d": {
     "model_module": "@jupyter-widgets/controls",
     "model_module_version": "1.5.0",
     "model_name": "HTMLModel",
     "state": {
      "_dom_classes": [],
      "_model_module": "@jupyter-widgets/controls",
      "_model_module_version": "1.5.0",
      "_model_name": "HTMLModel",
      "_view_count": null,
      "_view_module": "@jupyter-widgets/controls",
      "_view_module_version": "1.5.0",
      "_view_name": "HTMLView",
      "description": "",
      "description_tooltip": null,
      "layout": "IPY_MODEL_cd7e49e5ca54468fa54107f518e8a9a6",
      "placeholder": "​",
      "style": "IPY_MODEL_87b70bcb33e2474eaf047be722e304dd",
      "value": "Map: 100%"
     }
    },
    "a99af46268bc4d9fb23deb57666943ec": {
     "model_module": "@jupyter-widgets/base",
     "model_module_version": "1.2.0",
     "model_name": "LayoutModel",
     "state": {
      "_model_module": "@jupyter-widgets/base",
      "_model_module_version": "1.2.0",
      "_model_name": "LayoutModel",
      "_view_count": null,
      "_view_module": "@jupyter-widgets/base",
      "_view_module_version": "1.2.0",
      "_view_name": "LayoutView",
      "align_content": null,
      "align_items": null,
      "align_self": null,
      "border": null,
      "bottom": null,
      "display": null,
      "flex": null,
      "flex_flow": null,
      "grid_area": null,
      "grid_auto_columns": null,
      "grid_auto_flow": null,
      "grid_auto_rows": null,
      "grid_column": null,
      "grid_gap": null,
      "grid_row": null,
      "grid_template_areas": null,
      "grid_template_columns": null,
      "grid_template_rows": null,
      "height": null,
      "justify_content": null,
      "justify_items": null,
      "left": null,
      "margin": null,
      "max_height": null,
      "max_width": null,
      "min_height": null,
      "min_width": null,
      "object_fit": null,
      "object_position": null,
      "order": null,
      "overflow": null,
      "overflow_x": null,
      "overflow_y": null,
      "padding": null,
      "right": null,
      "top": null,
      "visibility": null,
      "width": null
     }
    },
    "a9db6c40509846e4b1ee9d83454b3cf0": {
     "model_module": "@jupyter-widgets/base",
     "model_module_version": "1.2.0",
     "model_name": "LayoutModel",
     "state": {
      "_model_module": "@jupyter-widgets/base",
      "_model_module_version": "1.2.0",
      "_model_name": "LayoutModel",
      "_view_count": null,
      "_view_module": "@jupyter-widgets/base",
      "_view_module_version": "1.2.0",
      "_view_name": "LayoutView",
      "align_content": null,
      "align_items": null,
      "align_self": null,
      "border": null,
      "bottom": null,
      "display": null,
      "flex": null,
      "flex_flow": null,
      "grid_area": null,
      "grid_auto_columns": null,
      "grid_auto_flow": null,
      "grid_auto_rows": null,
      "grid_column": null,
      "grid_gap": null,
      "grid_row": null,
      "grid_template_areas": null,
      "grid_template_columns": null,
      "grid_template_rows": null,
      "height": null,
      "justify_content": null,
      "justify_items": null,
      "left": null,
      "margin": null,
      "max_height": null,
      "max_width": null,
      "min_height": null,
      "min_width": null,
      "object_fit": null,
      "object_position": null,
      "order": null,
      "overflow": null,
      "overflow_x": null,
      "overflow_y": null,
      "padding": null,
      "right": null,
      "top": null,
      "visibility": null,
      "width": null
     }
    },
    "cb1d336a51e842a9ad3587091e875704": {
     "model_module": "@jupyter-widgets/controls",
     "model_module_version": "1.5.0",
     "model_name": "HTMLModel",
     "state": {
      "_dom_classes": [],
      "_model_module": "@jupyter-widgets/controls",
      "_model_module_version": "1.5.0",
      "_model_name": "HTMLModel",
      "_view_count": null,
      "_view_module": "@jupyter-widgets/controls",
      "_view_module_version": "1.5.0",
      "_view_name": "HTMLView",
      "description": "",
      "description_tooltip": null,
      "layout": "IPY_MODEL_a9db6c40509846e4b1ee9d83454b3cf0",
      "placeholder": "​",
      "style": "IPY_MODEL_03f10748b1f04e249e7cf686b9fc7586",
      "value": " 1956/1956 [00:06&lt;00:00, 290.64 examples/s]"
     }
    },
    "cc9ee476be0f4ab482492a4427a4b732": {
     "model_module": "@jupyter-widgets/controls",
     "model_module_version": "1.5.0",
     "model_name": "HBoxModel",
     "state": {
      "_dom_classes": [],
      "_model_module": "@jupyter-widgets/controls",
      "_model_module_version": "1.5.0",
      "_model_name": "HBoxModel",
      "_view_count": null,
      "_view_module": "@jupyter-widgets/controls",
      "_view_module_version": "1.5.0",
      "_view_name": "HBoxView",
      "box_style": "",
      "children": [
       "IPY_MODEL_426b6467d32049ba90fc18bc270f8c6b",
       "IPY_MODEL_41ef42b5daa945ec98ef6b317eef9864",
       "IPY_MODEL_59343861dfc342d4aebb0eb850c18c81"
      ],
      "layout": "IPY_MODEL_6799454bb729444bacd3a57c1336e962"
     }
    },
    "cd56544bc7b24e06a0539f6c32ea2763": {
     "model_module": "@jupyter-widgets/base",
     "model_module_version": "1.2.0",
     "model_name": "LayoutModel",
     "state": {
      "_model_module": "@jupyter-widgets/base",
      "_model_module_version": "1.2.0",
      "_model_name": "LayoutModel",
      "_view_count": null,
      "_view_module": "@jupyter-widgets/base",
      "_view_module_version": "1.2.0",
      "_view_name": "LayoutView",
      "align_content": null,
      "align_items": null,
      "align_self": null,
      "border": null,
      "bottom": null,
      "display": null,
      "flex": null,
      "flex_flow": null,
      "grid_area": null,
      "grid_auto_columns": null,
      "grid_auto_flow": null,
      "grid_auto_rows": null,
      "grid_column": null,
      "grid_gap": null,
      "grid_row": null,
      "grid_template_areas": null,
      "grid_template_columns": null,
      "grid_template_rows": null,
      "height": null,
      "justify_content": null,
      "justify_items": null,
      "left": null,
      "margin": null,
      "max_height": null,
      "max_width": null,
      "min_height": null,
      "min_width": null,
      "object_fit": null,
      "object_position": null,
      "order": null,
      "overflow": null,
      "overflow_x": null,
      "overflow_y": null,
      "padding": null,
      "right": null,
      "top": null,
      "visibility": null,
      "width": null
     }
    },
    "cd7e49e5ca54468fa54107f518e8a9a6": {
     "model_module": "@jupyter-widgets/base",
     "model_module_version": "1.2.0",
     "model_name": "LayoutModel",
     "state": {
      "_model_module": "@jupyter-widgets/base",
      "_model_module_version": "1.2.0",
      "_model_name": "LayoutModel",
      "_view_count": null,
      "_view_module": "@jupyter-widgets/base",
      "_view_module_version": "1.2.0",
      "_view_name": "LayoutView",
      "align_content": null,
      "align_items": null,
      "align_self": null,
      "border": null,
      "bottom": null,
      "display": null,
      "flex": null,
      "flex_flow": null,
      "grid_area": null,
      "grid_auto_columns": null,
      "grid_auto_flow": null,
      "grid_auto_rows": null,
      "grid_column": null,
      "grid_gap": null,
      "grid_row": null,
      "grid_template_areas": null,
      "grid_template_columns": null,
      "grid_template_rows": null,
      "height": null,
      "justify_content": null,
      "justify_items": null,
      "left": null,
      "margin": null,
      "max_height": null,
      "max_width": null,
      "min_height": null,
      "min_width": null,
      "object_fit": null,
      "object_position": null,
      "order": null,
      "overflow": null,
      "overflow_x": null,
      "overflow_y": null,
      "padding": null,
      "right": null,
      "top": null,
      "visibility": null,
      "width": null
     }
    },
    "d1b657aeac234aa6855bb2ad7b848b53": {
     "model_module": "@jupyter-widgets/base",
     "model_module_version": "1.2.0",
     "model_name": "LayoutModel",
     "state": {
      "_model_module": "@jupyter-widgets/base",
      "_model_module_version": "1.2.0",
      "_model_name": "LayoutModel",
      "_view_count": null,
      "_view_module": "@jupyter-widgets/base",
      "_view_module_version": "1.2.0",
      "_view_name": "LayoutView",
      "align_content": null,
      "align_items": null,
      "align_self": null,
      "border": null,
      "bottom": null,
      "display": null,
      "flex": null,
      "flex_flow": null,
      "grid_area": null,
      "grid_auto_columns": null,
      "grid_auto_flow": null,
      "grid_auto_rows": null,
      "grid_column": null,
      "grid_gap": null,
      "grid_row": null,
      "grid_template_areas": null,
      "grid_template_columns": null,
      "grid_template_rows": null,
      "height": null,
      "justify_content": null,
      "justify_items": null,
      "left": null,
      "margin": null,
      "max_height": null,
      "max_width": null,
      "min_height": null,
      "min_width": null,
      "object_fit": null,
      "object_position": null,
      "order": null,
      "overflow": null,
      "overflow_x": null,
      "overflow_y": null,
      "padding": null,
      "right": null,
      "top": null,
      "visibility": null,
      "width": null
     }
    },
    "dc764e9161a84c08b24f53f4608d9a87": {
     "model_module": "@jupyter-widgets/controls",
     "model_module_version": "1.5.0",
     "model_name": "FloatProgressModel",
     "state": {
      "_dom_classes": [],
      "_model_module": "@jupyter-widgets/controls",
      "_model_module_version": "1.5.0",
      "_model_name": "FloatProgressModel",
      "_view_count": null,
      "_view_module": "@jupyter-widgets/controls",
      "_view_module_version": "1.5.0",
      "_view_name": "ProgressView",
      "bar_style": "success",
      "description": "",
      "description_tooltip": null,
      "layout": "IPY_MODEL_a99af46268bc4d9fb23deb57666943ec",
      "max": 1956,
      "min": 0,
      "orientation": "horizontal",
      "style": "IPY_MODEL_24701a58424d43f7b4a2460b26a57529",
      "value": 1956
     }
    },
    "ea21f858e8154c2d98b0bfb8c29b60f4": {
     "model_module": "@jupyter-widgets/base",
     "model_module_version": "1.2.0",
     "model_name": "LayoutModel",
     "state": {
      "_model_module": "@jupyter-widgets/base",
      "_model_module_version": "1.2.0",
      "_model_name": "LayoutModel",
      "_view_count": null,
      "_view_module": "@jupyter-widgets/base",
      "_view_module_version": "1.2.0",
      "_view_name": "LayoutView",
      "align_content": null,
      "align_items": null,
      "align_self": null,
      "border": null,
      "bottom": null,
      "display": null,
      "flex": null,
      "flex_flow": null,
      "grid_area": null,
      "grid_auto_columns": null,
      "grid_auto_flow": null,
      "grid_auto_rows": null,
      "grid_column": null,
      "grid_gap": null,
      "grid_row": null,
      "grid_template_areas": null,
      "grid_template_columns": null,
      "grid_template_rows": null,
      "height": null,
      "justify_content": null,
      "justify_items": null,
      "left": null,
      "margin": null,
      "max_height": null,
      "max_width": null,
      "min_height": null,
      "min_width": null,
      "object_fit": null,
      "object_position": null,
      "order": null,
      "overflow": null,
      "overflow_x": null,
      "overflow_y": null,
      "padding": null,
      "right": null,
      "top": null,
      "visibility": null,
      "width": null
     }
    },
    "efecb141c20c435baf5787d2bf2b57b6": {
     "model_module": "@jupyter-widgets/controls",
     "model_module_version": "1.5.0",
     "model_name": "HBoxModel",
     "state": {
      "_dom_classes": [],
      "_model_module": "@jupyter-widgets/controls",
      "_model_module_version": "1.5.0",
      "_model_name": "HBoxModel",
      "_view_count": null,
      "_view_module": "@jupyter-widgets/controls",
      "_view_module_version": "1.5.0",
      "_view_name": "HBoxView",
      "box_style": "",
      "children": [
       "IPY_MODEL_91947b5cc3214fa78d9171e61f45fd4d",
       "IPY_MODEL_575fa424b422441f85b56dbe8426d3bf",
       "IPY_MODEL_2f472496d3d6413d8b9ba85634056629"
      ],
      "layout": "IPY_MODEL_05bf14b77d3046f69a39f30c3f55b5c6"
     }
    },
    "f173b41dcf434b8ba633ad7ef7ec66ef": {
     "model_module": "@jupyter-widgets/controls",
     "model_module_version": "1.5.0",
     "model_name": "DescriptionStyleModel",
     "state": {
      "_model_module": "@jupyter-widgets/controls",
      "_model_module_version": "1.5.0",
      "_model_name": "DescriptionStyleModel",
      "_view_count": null,
      "_view_module": "@jupyter-widgets/base",
      "_view_module_version": "1.2.0",
      "_view_name": "StyleView",
      "description_width": ""
     }
    },
    "fd21b3a05d7c40bc86122572be409ba9": {
     "model_module": "@jupyter-widgets/controls",
     "model_module_version": "1.5.0",
     "model_name": "HTMLModel",
     "state": {
      "_dom_classes": [],
      "_model_module": "@jupyter-widgets/controls",
      "_model_module_version": "1.5.0",
      "_model_name": "HTMLModel",
      "_view_count": null,
      "_view_module": "@jupyter-widgets/controls",
      "_view_module_version": "1.5.0",
      "_view_name": "HTMLView",
      "description": "",
      "description_tooltip": null,
      "layout": "IPY_MODEL_ea21f858e8154c2d98b0bfb8c29b60f4",
      "placeholder": "​",
      "style": "IPY_MODEL_52bc175bdc334734b21e334db5f8c6f9",
      "value": "Map: 100%"
     }
    }
   }
  }
 },
 "nbformat": 4,
 "nbformat_minor": 4
}
